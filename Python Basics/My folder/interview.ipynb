{
 "cells": [
  {
   "cell_type": "markdown",
   "metadata": {},
   "source": [
    "###### Introduction"
   ]
  },
  {
   "cell_type": "markdown",
   "metadata": {},
   "source": [
    "Good evening Sir/Mam, <br>\n",
    "My name is Gaurav Tiwari <br>\n",
    "I am a computer science student currently persuing my bachelor's degree <br>\n",
    "from Babu Banarsi Das University. <br>\n",
    "I belongs to Uttar Pradesh from Barabanki district. <br>\n",
    "I have a keen interest on python programming language and have to learn and explore new technologies."
   ]
  },
  {
   "cell_type": "markdown",
   "metadata": {},
   "source": [
    "###### Which programming language do you comfortable for technical interview?"
   ]
  },
  {
   "cell_type": "markdown",
   "metadata": {},
   "source": [
    "python"
   ]
  },
  {
   "cell_type": "markdown",
   "metadata": {},
   "source": [
    "###### What is python?"
   ]
  },
  {
   "cell_type": "markdown",
   "metadata": {},
   "source": [
    "Python is a general purpose, high - level, interpreted, programming language. <br>\n",
    "And it is most popular in AI and Machine Learning sector <br>\n",
    "Python is easy to learn and portable language. <br>\n",
    "Means that we can run same python code in Linux, Windows, Android, Mac, every device."
   ]
  },
  {
   "cell_type": "markdown",
   "metadata": {},
   "source": [
    "###### Versions and history of python?"
   ]
  },
  {
   "cell_type": "markdown",
   "metadata": {},
   "source": [
    "Python is developed by 'Guido Van Rossum' in 1991 <br>\n",
    "In Jan 1994 python 1.0 is released -- with new features like lambda, map, filter, and reduce. <br>\n",
    "In Oct 2000 python 2.0 is released --  added new features such as list comprehensions, garbage collection systems. <br>\n",
    "In Dec 2008 python 3.0 is released -- It was designed to rectify the fundamental flaw of the language <br>\n",
    "In 14 Jan 2022 python 3.9.10 released which is stable currently. <br>\n",
    "In 24 Mar 2022 python 3.10.4 released which will be upgraded with time."
   ]
  },
  {
   "cell_type": "markdown",
   "metadata": {},
   "source": [
    "###### Features of Python?"
   ]
  },
  {
   "cell_type": "markdown",
   "metadata": {},
   "source": [
    "1. Easy to code\n",
    "2. Free & open source\n",
    "3. OOPs \n",
    "4. GUI support\n",
    "5. Extensible feature -- we can write some python code in other programming languages.\n",
    "6. Portable \n",
    "7. Interpreted -- code is executed line by line.\n",
    "8. Large standard library\n",
    "9. Dynamically typed language -- we do not need to specify the type of variable, python can take the variables automatically according to values.\n",
    "\n"
   ]
  },
  {
   "cell_type": "markdown",
   "metadata": {},
   "source": [
    "###### Multi-line Comments"
   ]
  },
  {
   "cell_type": "markdown",
   "metadata": {},
   "source": [
    "Here we use three quotes to have a multi-line comments here it is known as 'Docstrings' --documentation string."
   ]
  },
  {
   "cell_type": "code",
   "execution_count": 3,
   "metadata": {},
   "outputs": [
    {
     "data": {
      "text/plain": [
       "' This \\n is \\n a \\n multi-line \\n comment'"
      ]
     },
     "execution_count": 3,
     "metadata": {},
     "output_type": "execute_result"
    }
   ],
   "source": [
    "''' This \n",
    " is \n",
    " a \n",
    " multi-line \n",
    " comment'''"
   ]
  },
  {
   "cell_type": "markdown",
   "metadata": {},
   "source": [
    "###### What is PEP 8?"
   ]
  },
  {
   "cell_type": "markdown",
   "metadata": {},
   "source": [
    "PEP stands for 'Python Enhancement Proposal'. <br>\n",
    "It is a set of rules that specify how to format python code for maximum readibility."
   ]
  },
  {
   "cell_type": "markdown",
   "metadata": {},
   "source": [
    "###### PIP?"
   ]
  },
  {
   "cell_type": "markdown",
   "metadata": {},
   "source": [
    "PIP is 'Preffered Installer Program'. <br> \n",
    "It allows you to install and manages the packages that are not pre - installed. "
   ]
  },
  {
   "cell_type": "markdown",
   "metadata": {},
   "source": [
    "###### Modules?"
   ]
  },
  {
   "cell_type": "markdown",
   "metadata": {},
   "source": [
    "The module is a simple Python file that contains executable code and with having a .py extension file."
   ]
  },
  {
   "cell_type": "markdown",
   "metadata": {},
   "source": [
    "\n",
    "Double click to see e.g.\n",
    "<!--Example: Save the code in file called demo_module.py\n",
    "\n",
    "def myModule(name):\n",
    "    print(\"This is My Module : \"+ name)\n",
    "Import module named demo_module and call myModule function inside it.\n",
    "\n",
    "import demo_module\n",
    "  \n",
    "demo_module.myModule(\"Math\")\n",
    "Output:\n",
    "\n",
    "This is My Module : Math-->"
   ]
  },
  {
   "cell_type": "markdown",
   "metadata": {},
   "source": [
    "###### Packages?"
   ]
  },
  {
   "cell_type": "markdown",
   "metadata": {},
   "source": [
    "The package is a simple directory having collections of modules. \n",
    "\n",
    "<This directory contains Python modules and also having __init__.py file by which the interpreter interprets it as a Package.>"
   ]
  },
  {
   "cell_type": "markdown",
   "metadata": {},
   "source": [
    "###### Library?"
   ]
  },
  {
   "cell_type": "markdown",
   "metadata": {},
   "source": [
    "The library is having a collection of related functionality of codes that allows you to perform many tasks without writing your code."
   ]
  },
  {
   "cell_type": "code",
   "execution_count": 7,
   "metadata": {},
   "outputs": [
    {
     "data": {
      "text/html": [
       "<div>\n",
       "<style scoped>\n",
       "    .dataframe tbody tr th:only-of-type {\n",
       "        vertical-align: middle;\n",
       "    }\n",
       "\n",
       "    .dataframe tbody tr th {\n",
       "        vertical-align: top;\n",
       "    }\n",
       "\n",
       "    .dataframe thead th {\n",
       "        text-align: right;\n",
       "    }\n",
       "</style>\n",
       "<table border=\"1\" class=\"dataframe\">\n",
       "  <thead>\n",
       "    <tr style=\"text-align: right;\">\n",
       "      <th></th>\n",
       "      <th>#</th>\n",
       "      <th>Name</th>\n",
       "      <th>Type 1</th>\n",
       "      <th>Type 2</th>\n",
       "      <th>Total</th>\n",
       "      <th>HP</th>\n",
       "      <th>Attack</th>\n",
       "      <th>Defense</th>\n",
       "      <th>Sp. Atk</th>\n",
       "      <th>Sp. Def</th>\n",
       "      <th>Speed</th>\n",
       "      <th>Generation</th>\n",
       "      <th>Legendary</th>\n",
       "    </tr>\n",
       "  </thead>\n",
       "  <tbody>\n",
       "    <tr>\n",
       "      <th>0</th>\n",
       "      <td>1</td>\n",
       "      <td>Bulbasaur</td>\n",
       "      <td>Grass</td>\n",
       "      <td>Poison</td>\n",
       "      <td>318</td>\n",
       "      <td>45</td>\n",
       "      <td>49</td>\n",
       "      <td>49</td>\n",
       "      <td>65</td>\n",
       "      <td>65</td>\n",
       "      <td>45</td>\n",
       "      <td>1</td>\n",
       "      <td>False</td>\n",
       "    </tr>\n",
       "    <tr>\n",
       "      <th>1</th>\n",
       "      <td>2</td>\n",
       "      <td>Ivysaur</td>\n",
       "      <td>Grass</td>\n",
       "      <td>Poison</td>\n",
       "      <td>405</td>\n",
       "      <td>60</td>\n",
       "      <td>62</td>\n",
       "      <td>63</td>\n",
       "      <td>80</td>\n",
       "      <td>80</td>\n",
       "      <td>60</td>\n",
       "      <td>1</td>\n",
       "      <td>False</td>\n",
       "    </tr>\n",
       "    <tr>\n",
       "      <th>2</th>\n",
       "      <td>3</td>\n",
       "      <td>Venusaur</td>\n",
       "      <td>Grass</td>\n",
       "      <td>Poison</td>\n",
       "      <td>525</td>\n",
       "      <td>80</td>\n",
       "      <td>82</td>\n",
       "      <td>83</td>\n",
       "      <td>100</td>\n",
       "      <td>100</td>\n",
       "      <td>80</td>\n",
       "      <td>1</td>\n",
       "      <td>False</td>\n",
       "    </tr>\n",
       "    <tr>\n",
       "      <th>3</th>\n",
       "      <td>3</td>\n",
       "      <td>VenusaurMega Venusaur</td>\n",
       "      <td>Grass</td>\n",
       "      <td>Poison</td>\n",
       "      <td>625</td>\n",
       "      <td>80</td>\n",
       "      <td>100</td>\n",
       "      <td>123</td>\n",
       "      <td>122</td>\n",
       "      <td>120</td>\n",
       "      <td>80</td>\n",
       "      <td>1</td>\n",
       "      <td>False</td>\n",
       "    </tr>\n",
       "    <tr>\n",
       "      <th>4</th>\n",
       "      <td>4</td>\n",
       "      <td>Charmander</td>\n",
       "      <td>Fire</td>\n",
       "      <td>NaN</td>\n",
       "      <td>309</td>\n",
       "      <td>39</td>\n",
       "      <td>52</td>\n",
       "      <td>43</td>\n",
       "      <td>60</td>\n",
       "      <td>50</td>\n",
       "      <td>65</td>\n",
       "      <td>1</td>\n",
       "      <td>False</td>\n",
       "    </tr>\n",
       "  </tbody>\n",
       "</table>\n",
       "</div>"
      ],
      "text/plain": [
       "   #                   Name Type 1  Type 2  Total  HP  Attack  Defense  \\\n",
       "0  1              Bulbasaur  Grass  Poison    318  45      49       49   \n",
       "1  2                Ivysaur  Grass  Poison    405  60      62       63   \n",
       "2  3               Venusaur  Grass  Poison    525  80      82       83   \n",
       "3  3  VenusaurMega Venusaur  Grass  Poison    625  80     100      123   \n",
       "4  4             Charmander   Fire     NaN    309  39      52       43   \n",
       "\n",
       "   Sp. Atk  Sp. Def  Speed  Generation  Legendary  \n",
       "0       65       65     45           1      False  \n",
       "1       80       80     60           1      False  \n",
       "2      100      100     80           1      False  \n",
       "3      122      120     80           1      False  \n",
       "4       60       50     65           1      False  "
      ]
     },
     "execution_count": 7,
     "metadata": {},
     "output_type": "execute_result"
    }
   ],
   "source": [
    "import pandas as pd\n",
    "  \n",
    "df = pd.read_csv(\"Pokemon.csv\")\n",
    "df.head()"
   ]
  },
  {
   "cell_type": "markdown",
   "metadata": {},
   "source": [
    "###### Namespace?"
   ]
  },
  {
   "cell_type": "markdown",
   "metadata": {},
   "source": [
    "Namespace is a naminng system used to make sure that names are unique to avoid naming conflicts."
   ]
  },
  {
   "cell_type": "markdown",
   "metadata": {},
   "source": [
    "###### Case sensitive & indentation?"
   ]
  },
  {
   "cell_type": "markdown",
   "metadata": {},
   "source": [
    "Yes python is case sensitive. And indentation is used in python to represent a block of code."
   ]
  },
  {
   "cell_type": "markdown",
   "metadata": {},
   "source": [
    "###### "
   ]
  },
  {
   "cell_type": "markdown",
   "metadata": {},
   "source": [
    "###### Memory management?"
   ]
  },
  {
   "cell_type": "markdown",
   "metadata": {},
   "source": [
    "Memory management is done using private heap space. <br>\n",
    "The private heap space is storage area for all data types and objects. <br>\n",
    "Allocation of heap space for python objects is done by python memory manager. <br>\n",
    "There is a built-in garbage collector recycles all unused memory."
   ]
  },
  {
   "cell_type": "markdown",
   "metadata": {},
   "source": [
    "###### GIL?"
   ]
  },
  {
   "cell_type": "markdown",
   "metadata": {},
   "source": [
    "GIL stands for 'Global Interpreter Lock' is a mutex, used to limit access to python objects.\n",
    "<br>\n",
    "Mutex : <br>\n",
    "Mutex means 'Mutual Exclusion'. <br>\n",
    "It means that at a given specific time, only one thread can use a particular resource. <br>\n",
    "If one program has multi - threads, then mutex restricts the threads to use that particular resource simultaneously. <br>\n",
    "<br>\n",
    "Thread : <br>\n",
    "A thread is a single sequential flow of execution of tasks of a process."
   ]
  },
  {
   "cell_type": "markdown",
   "metadata": {},
   "source": [
    "###### Super()?"
   ]
  },
  {
   "cell_type": "markdown",
   "metadata": {},
   "source": [
    "The super() function is used to give access to methods and properties of a parent or child class. <br>\n",
    "The super() function returns an object that represents the parent class. "
   ]
  },
  {
   "cell_type": "markdown",
   "metadata": {},
   "source": [
    "###### Deep copy vs Shallow copy?"
   ]
  },
  {
   "cell_type": "markdown",
   "metadata": {},
   "source": [
    "Deep copy <br>\n",
    "1. Creates new and separate copy of the objects and its elements. <br>\n",
    "2. Any change made in new copy doesn't reflect on original one. <br>\n",
    "\n",
    "<br>\n",
    "\n",
    "Shallow Copy <br>\n",
    "1. Creates copy of the object but rather than copying the elements of object, it copies the references to their memory addresses. <br>\n",
    "2. Any change made to the copy reflects in the original."
   ]
  },
  {
   "cell_type": "markdown",
   "metadata": {},
   "source": [
    "###### Pickling vs Unpickling?"
   ]
  },
  {
   "cell_type": "markdown",
   "metadata": {},
   "source": [
    "Pickling <br>\n",
    "Converting a python object in memory to show in string representation. <br>\n",
    "\n",
    "Unpickling <br>\n",
    "Converting pickled file back into python program."
   ]
  },
  {
   "cell_type": "markdown",
   "metadata": {},
   "source": [
    "###### __init __ ?"
   ]
  },
  {
   "cell_type": "markdown",
   "metadata": {},
   "source": [
    "__init__ : It is a constructor in python, automatically called to allocate memory when a new object of a class is created."
   ]
  },
  {
   "cell_type": "markdown",
   "metadata": {},
   "source": [
    "###### self?"
   ]
  },
  {
   "cell_type": "markdown",
   "metadata": {},
   "source": [
    "self : This keyword is used to represent and access all the instances (attributes and methods) of a class.  "
   ]
  },
  {
   "cell_type": "markdown",
   "metadata": {},
   "source": [
    "###### Class vs Object"
   ]
  },
  {
   "cell_type": "markdown",
   "metadata": {},
   "source": [
    "Class <br>\n",
    "Generally, a class is a group of similar objects.\n",
    "<br>\n",
    "Object <br>\n",
    "And object is an instance of class like a real world entity\n",
    "<br>\n",
    "for e.g. <br>\n",
    "There is a class computer <br>\n",
    "So there is some common properties which every computer have, <br>\n",
    "like RAM, CPU, Storage, <br>\n",
    "so these are the attributes of class <br>\n",
    "and their functions are the methods of class <br>\n",
    "and then the real intity that is computers like one HP and another one is Dell these are the objects of the class. "
   ]
  },
  {
   "cell_type": "code",
   "execution_count": 3,
   "metadata": {},
   "outputs": [
    {
     "name": "stdout",
     "output_type": "stream",
     "text": [
      "Computer is turning on...\n"
     ]
    }
   ],
   "source": [
    "class Computer:\n",
    "    \n",
    "    def __init__(self, ram, cpu, storage):\n",
    "        self.ram = ram\n",
    "        self.cpu = cpu\n",
    "        self.storage = storage\n",
    "       \n",
    "\n",
    "    def turnOn(self):\n",
    "        print('Computer is turning on...')\n",
    "        \n",
    "comp = Computer('4 GB', 'i3', '500 GB')\n",
    "comp.turnOn()"
   ]
  },
  {
   "cell_type": "markdown",
   "metadata": {},
   "source": [
    "###### Generators?"
   ]
  },
  {
   "cell_type": "markdown",
   "metadata": {},
   "source": [
    "Functions that return an iterable set of items are called generators."
   ]
  },
  {
   "cell_type": "code",
   "execution_count": 13,
   "metadata": {},
   "outputs": [
    {
     "name": "stdout",
     "output_type": "stream",
     "text": [
      "This is print first\n",
      "1\n",
      "This is printed second\n",
      "2\n",
      "This is printed at last\n",
      "3\n"
     ]
    }
   ],
   "source": [
    "def my_gen():\n",
    "    n=1\n",
    "    print('This is print first')\n",
    "    # generator function contains an yield statement\n",
    "    yield n\n",
    "    n+=1\n",
    "    print('This is printed second')\n",
    "    yield n\n",
    "    n+=1\n",
    "    print('This is printed at last')\n",
    "    yield n\n",
    "    \n",
    "for value in my_gen():\n",
    "    print(value)\n"
   ]
  },
  {
   "cell_type": "markdown",
   "metadata": {},
   "source": [
    "###### Decorators?"
   ]
  },
  {
   "cell_type": "markdown",
   "metadata": {},
   "source": [
    "Extending the functionalities of existing functions without modifing them. <br>\n",
    "They are usually called before the definition of a function you want to decorate. <br>\n",
    "\n",
    "Getter function is used to return the value of attribute <br>\n",
    "Setter function is used to set the property name. <br>\n",
    "Delete function is used to delete the property name"
   ]
  },
  {
   "cell_type": "markdown",
   "metadata": {},
   "source": [
    "###### Escape sequence?"
   ]
  },
  {
   "cell_type": "markdown",
   "metadata": {},
   "source": [
    "An escape sequence is a sequence of characters after backslash '\\'. <br>\n",
    ".newline -- \\n        <br>\n",
    ".backslash -- \\ \\     <br>\n",
    ".single quote -- \\'   <br>\n",
    ".tab -- \\t            <br>\n",
    ".backspace -- \\b      <br>\n"
   ]
  },
  {
   "cell_type": "markdown",
   "metadata": {},
   "source": [
    "###### Type & type casting?"
   ]
  },
  {
   "cell_type": "markdown",
   "metadata": {},
   "source": [
    "type() function is used to find the data type of given variable in python. <br>\n",
    "\n",
    "For type conversion in python we can simply take one data type in parenthesis inside the desired <br>\n",
    "datatype.  "
   ]
  },
  {
   "cell_type": "code",
   "execution_count": 61,
   "metadata": {},
   "outputs": [
    {
     "name": "stdout",
     "output_type": "stream",
     "text": [
      "<class 'int'>\n",
      "<class 'str'>\n"
     ]
    }
   ],
   "source": [
    "a = 34\n",
    "print(type(a))\n",
    "b = str(a)\n",
    "# print(b)\n",
    "print(type(b))"
   ]
  },
  {
   "cell_type": "markdown",
   "metadata": {},
   "source": [
    "###### Map function?"
   ]
  },
  {
   "cell_type": "markdown",
   "metadata": {},
   "source": [
    "It applies a given function to each item of iterable and returns an iterator."
   ]
  },
  {
   "cell_type": "code",
   "execution_count": 14,
   "metadata": {},
   "outputs": [
    {
     "data": {
      "text/plain": [
       "(1, 4, 9, 16, 25)"
      ]
     },
     "execution_count": 14,
     "metadata": {},
     "output_type": "execute_result"
    }
   ],
   "source": [
    "#map\n",
    "# 2nd parameter - iterator\n",
    "# 1st parameter - lambda expression\n",
    "\n",
    "nums = [1,2,3,4,5]\n",
    "tuple(map(lambda i : i**2, nums ))\n",
    "\n",
    "\n",
    "# without map()\n",
    "#list\n",
    "# newlist = []\n",
    "# for i in nums:\n",
    "#     newlist.append(i**2)\n",
    "# print(newlist)"
   ]
  },
  {
   "cell_type": "markdown",
   "metadata": {},
   "source": [
    "###### lambda()?"
   ]
  },
  {
   "cell_type": "markdown",
   "metadata": {},
   "source": [
    "Simple, one line (), can have any number of arguments, lambda a,b:a+b"
   ]
  },
  {
   "cell_type": "code",
   "execution_count": 15,
   "metadata": {},
   "outputs": [
    {
     "data": {
      "text/plain": [
       "(1, 4, 9, 16, 25)"
      ]
     },
     "execution_count": 15,
     "metadata": {},
     "output_type": "execute_result"
    }
   ],
   "source": [
    "tuple(map(lambda i : i**2, nums ))"
   ]
  },
  {
   "cell_type": "markdown",
   "metadata": {},
   "source": [
    "###### Conditional Statement?"
   ]
  },
  {
   "cell_type": "markdown",
   "metadata": {},
   "source": [
    "If statement (decision making)"
   ]
  },
  {
   "cell_type": "code",
   "execution_count": 17,
   "metadata": {},
   "outputs": [
    {
     "name": "stdout",
     "output_type": "stream",
     "text": [
      "number 4 is not divisible by both 7 and 11\n"
     ]
    }
   ],
   "source": [
    "# num = int(input('enter a number'))\n",
    "num =4\n",
    "if num % 7 == 0 and num % 11 == 0:\n",
    "    print(f'yes {num} divisible by both 7 and 11')\n",
    "else:\n",
    "    print(f'number {num} is not divisible by both 7 and 11')"
   ]
  },
  {
   "cell_type": "code",
   "execution_count": 18,
   "metadata": {},
   "outputs": [
    {
     "name": "stdout",
     "output_type": "stream",
     "text": [
      "C\n"
     ]
    }
   ],
   "source": [
    "# a = int(input(\"enter your marks\"))\n",
    "a = 67\n",
    "if a >= 90 and a <= 100:\n",
    "    print(\"A\")\n",
    "elif a >= 70 and a <= 89:\n",
    "    print(\"B\")\n",
    "elif a >= 30 and a <= 69:\n",
    "    print(\"C\")\n",
    "elif a >= 0 and a <= 29:\n",
    "    print(\"Fail\")\n",
    "else:\n",
    "    print(\"Invalid Input\")"
   ]
  },
  {
   "cell_type": "markdown",
   "metadata": {},
   "source": [
    "###### Iterative statements?"
   ]
  },
  {
   "cell_type": "markdown",
   "metadata": {},
   "source": [
    "Loop, which repeatedly executes a statement, until the condition is false."
   ]
  },
  {
   "cell_type": "code",
   "execution_count": 19,
   "metadata": {},
   "outputs": [
    {
     "name": "stdout",
     "output_type": "stream",
     "text": [
      "5\n",
      "6\n",
      "7\n",
      "8\n",
      "9\n",
      "10\n",
      "11\n",
      "12\n",
      "13\n",
      "14\n",
      "15\n"
     ]
    }
   ],
   "source": [
    "#specifing starting and ending point\n",
    "for i in range(5,16):\n",
    "    print(i)"
   ]
  },
  {
   "cell_type": "markdown",
   "metadata": {},
   "source": [
    "###### While loop?"
   ]
  },
  {
   "cell_type": "markdown",
   "metadata": {},
   "source": [
    "Generally we use while loop when we not sure about the exact number of iterations performed."
   ]
  },
  {
   "cell_type": "code",
   "execution_count": 22,
   "metadata": {},
   "outputs": [
    {
     "name": "stdout",
     "output_type": "stream",
     "text": [
      "C\n"
     ]
    }
   ],
   "source": [
    "n=1\n",
    "while(n!=0):\n",
    "    # a = int(input(\"enter your marks\"))\n",
    "    a=67\n",
    "    if a >= 90 and a <= 100:\n",
    "        print(\"A\")\n",
    "    elif a >= 70 and a <= 89:\n",
    "        print(\"B\")\n",
    "    elif a >= 30 and a <= 69:\n",
    "        print(\"C\")\n",
    "    elif a >= 0 and a <= 29:\n",
    "        print(\"Fail\")\n",
    "    else:\n",
    "        print(\"Invalid Input\")\n",
    "    # n = int(input(\" Enter 1 to continue \\n0 for exit\"))\n",
    "    n=0"
   ]
  },
  {
   "cell_type": "markdown",
   "metadata": {},
   "source": [
    "###### Do while?"
   ]
  },
  {
   "cell_type": "markdown",
   "metadata": {},
   "source": [
    "When we want to run atleast one iteration."
   ]
  },
  {
   "cell_type": "markdown",
   "metadata": {},
   "source": [
    "###### Break?"
   ]
  },
  {
   "cell_type": "markdown",
   "metadata": {},
   "source": [
    "It enables a program to skip over a part of the code. <br>\n",
    "Used to terminates the loop it lies within."
   ]
  },
  {
   "cell_type": "markdown",
   "metadata": {},
   "source": [
    "###### Continue?"
   ]
  },
  {
   "cell_type": "markdown",
   "metadata": {},
   "source": [
    "It skips the rest of the loop statements and causes the iterations to occur."
   ]
  },
  {
   "cell_type": "markdown",
   "metadata": {},
   "source": [
    "###### Function?"
   ]
  },
  {
   "cell_type": "markdown",
   "metadata": {},
   "source": [
    "A function is a block of code that performs a specific task whenever it is called."
   ]
  },
  {
   "cell_type": "markdown",
   "metadata": {},
   "source": [
    "###### File handling?"
   ]
  },
  {
   "cell_type": "markdown",
   "metadata": {},
   "source": [
    "It refers to reading and writing data from files."
   ]
  },
  {
   "cell_type": "code",
   "execution_count": 25,
   "metadata": {},
   "outputs": [
    {
     "data": {
      "text/plain": [
       "['ibm.ipynb', 'interview.ipynb', 'myfile.txt', 'Pokemon.csv']"
      ]
     },
     "execution_count": 25,
     "metadata": {},
     "output_type": "execute_result"
    }
   ],
   "source": [
    "import os\n",
    "os.listdir()\n"
   ]
  },
  {
   "cell_type": "code",
   "execution_count": 33,
   "metadata": {},
   "outputs": [
    {
     "data": {
      "text/plain": [
       "'c:\\\\Users\\\\gaura\\\\OneDrive\\\\Desktop\\\\0gaurav\\\\#finalYearProject\\\\Python DataScience DP\\\\Python Basics\\\\My folder'"
      ]
     },
     "execution_count": 33,
     "metadata": {},
     "output_type": "execute_result"
    }
   ],
   "source": [
    "os.getcwd()\n",
    "# Absolute path - c:/Winter Training/Python/Basics \n",
    "# -- location of a file from root directory.\n"
   ]
  },
  {
   "cell_type": "code",
   "execution_count": 34,
   "metadata": {},
   "outputs": [
    {
     "data": {
      "text/plain": [
       "'..\\\\My folder'"
      ]
     },
     "execution_count": 34,
     "metadata": {},
     "output_type": "execute_result"
    }
   ],
   "source": [
    "# Relative path - ./Basics\n",
    "# -- related to present working directory.\n",
    "os.path.relpath('My folder', 'Python Basics')"
   ]
  },
  {
   "cell_type": "markdown",
   "metadata": {},
   "source": [
    "###### Exception Handling?"
   ]
  },
  {
   "cell_type": "markdown",
   "metadata": {},
   "source": [
    "An exception is an unusual condition that results in an interruption in the flow of the program. <br>\n",
    "\n",
    "When the try block throws an error, the control goes to except block."
   ]
  },
  {
   "cell_type": "code",
   "execution_count": 36,
   "metadata": {},
   "outputs": [
    {
     "name": "stdout",
     "output_type": "stream",
     "text": [
      "an error occured\n",
      "[Errno 2] No such file or directory: 'hello.py'\n"
     ]
    }
   ],
   "source": [
    "try:\n",
    "    with open('hello.py') as f:\n",
    "        print(f.read())\n",
    "except Exception as e:\n",
    "    print('an error occured')\n",
    "    print(e)\n",
    "    \n",
    "    # with open('example.txt') as f:\n",
    "    #     print(f.read())"
   ]
  },
  {
   "cell_type": "markdown",
   "metadata": {},
   "source": [
    "###### Array vs List?"
   ]
  },
  {
   "cell_type": "markdown",
   "metadata": {},
   "source": [
    "Array <br>\n",
    "Contains elements of the same data types.\n",
    "<br>\n",
    "List <br>\n",
    "Contains elements of different data types."
   ]
  },
  {
   "cell_type": "markdown",
   "metadata": {},
   "source": [
    "###### String?"
   ]
  },
  {
   "cell_type": "markdown",
   "metadata": {},
   "source": [
    "In python String is a sequence of characters enclosed with single or double quotes."
   ]
  },
  {
   "cell_type": "markdown",
   "metadata": {},
   "source": [
    "###### split() vs strip()"
   ]
  },
  {
   "cell_type": "code",
   "execution_count": 42,
   "metadata": {},
   "outputs": [
    {
     "name": "stdout",
     "output_type": "stream",
     "text": [
      "$23,000 - $65,000\n",
      "['$23,000', '-', '$65,000']\n",
      "<class 'str'>\n",
      "<class 'list'>\n"
     ]
    }
   ],
   "source": [
    "salary_range = \"$23,000 - $65,000\"\n",
    "\n",
    "a = salary_range.strip()\n",
    "\n",
    "b = salary_range.split()\n",
    "\n",
    "print(a)\n",
    "\n",
    "print(b)\n",
    "\n",
    "print(type(a))\n",
    "\n",
    "print(type(b))\n",
    "\n",
    "#  they both removes extra white spaces."
   ]
  },
  {
   "cell_type": "markdown",
   "metadata": {},
   "source": [
    "###### List?"
   ]
  },
  {
   "cell_type": "markdown",
   "metadata": {},
   "source": [
    "List is represented as comma-seperated values of any data type between square brackets. <br>\n",
    "Ordered <br>\n",
    "Indexed <br>\n",
    "Mutable -- that can be modified <br> "
   ]
  },
  {
   "cell_type": "markdown",
   "metadata": {},
   "source": [
    "###### Tuple?"
   ]
  },
  {
   "cell_type": "markdown",
   "metadata": {},
   "source": [
    "Tuple is represented as comma-seperated values of any data type between parenthesis. <br>\n",
    "Indexed <br>\n",
    "Immutable -- that can not be modified <br> "
   ]
  },
  {
   "cell_type": "markdown",
   "metadata": {},
   "source": [
    "###### Set?"
   ]
  },
  {
   "cell_type": "markdown",
   "metadata": {},
   "source": [
    "Set is represented as comma-seperated values of any data type between curly brackets. <br>\n",
    "Unordered <br>\n",
    "Unindexed <br>\n",
    "It doesn't have duplicate values <br>\n",
    "Mutable -- that can be modified <br> "
   ]
  },
  {
   "cell_type": "markdown",
   "metadata": {},
   "source": [
    "###### Dictionaries?"
   ]
  },
  {
   "cell_type": "markdown",
   "metadata": {},
   "source": [
    "The dictionary is an unordered set of comma seperated key : value pair, with-in {} curly brackets, <br>\n",
    "with a requirement that with in a dictionary no two key can be same."
   ]
  },
  {
   "cell_type": "markdown",
   "metadata": {},
   "source": [
    "###### Filter()?"
   ]
  },
  {
   "cell_type": "markdown",
   "metadata": {},
   "source": [
    "This function allows us to process an iterable and extract those items that satisfy a given condition."
   ]
  },
  {
   "cell_type": "code",
   "execution_count": 43,
   "metadata": {},
   "outputs": [
    {
     "data": {
      "text/plain": [
       "(2, 4)"
      ]
     },
     "execution_count": 43,
     "metadata": {},
     "output_type": "execute_result"
    }
   ],
   "source": [
    "nums = [1, 2, 3, 4, 5]\n",
    "tuple(filter(lambda i : i%2==0, nums))"
   ]
  },
  {
   "cell_type": "markdown",
   "metadata": {},
   "source": [
    "###### Operator overloading?"
   ]
  },
  {
   "cell_type": "markdown",
   "metadata": {},
   "source": [
    "It means that we can change the meaning of operator according to operands. <br>\n",
    "For e.g. <br>\n",
    "To concatenate two strings -- we use + opearator. <br>\n",
    "And to add two number we also use + operator there. <br>\n",
    "And to add two list we also use + operator there."
   ]
  },
  {
   "cell_type": "markdown",
   "metadata": {},
   "source": [
    "###### Data Abstraction?"
   ]
  },
  {
   "cell_type": "markdown",
   "metadata": {},
   "source": [
    "It is providing only the required details and hiding the implementation of the code."
   ]
  },
  {
   "cell_type": "code",
   "execution_count": 56,
   "metadata": {},
   "outputs": [
    {
     "name": "stdout",
     "output_type": "stream",
     "text": [
      "[1, 3, 4, 5]\n"
     ]
    }
   ],
   "source": [
    "num = 1,5,3,4\n",
    "x = list(num)\n",
    "x.sort()\n",
    "print(x)"
   ]
  },
  {
   "cell_type": "markdown",
   "metadata": {},
   "source": [
    "###### Encapsulation?"
   ]
  },
  {
   "cell_type": "markdown",
   "metadata": {},
   "source": [
    "Binding the  methods and code inside a class as a single unit to hide the implementation. "
   ]
  },
  {
   "cell_type": "markdown",
   "metadata": {},
   "source": [
    "###### Polymorphism?"
   ]
  },
  {
   "cell_type": "markdown",
   "metadata": {},
   "source": [
    "Means the ability to take multiple form. <br>\n",
    "\n",
    "for.e.g. <br>\n",
    "Parent class -> Method Name -> ABC -> having its own parameters. <br>\n",
    "Child class -> \"\" \"\"  -> \"\" ->  \"\" "
   ]
  },
  {
   "cell_type": "markdown",
   "metadata": {},
   "source": [
    "###### Inheritence?"
   ]
  },
  {
   "cell_type": "markdown",
   "metadata": {},
   "source": [
    "Means derived class inherits the features of base class, it is used for reuseability of code. <br>\n",
    "\n",
    "Multiple Inheritence <br>\n",
    "Means that a class can be derived from more than one parent class."
   ]
  },
  {
   "cell_type": "markdown",
   "metadata": {},
   "source": [
    "###### Eval?"
   ]
  },
  {
   "cell_type": "markdown",
   "metadata": {},
   "source": [
    "Eval function is used to evaluate number of values as an expression. "
   ]
  },
  {
   "cell_type": "code",
   "execution_count": 57,
   "metadata": {},
   "outputs": [
    {
     "data": {
      "text/plain": [
       "8"
      ]
     },
     "execution_count": 57,
     "metadata": {},
     "output_type": "execute_result"
    }
   ],
   "source": [
    "# eval(input(\"Enter a math expression: \"))\n",
    "eval(4+4)"
   ]
  },
  {
   "cell_type": "markdown",
   "metadata": {},
   "source": [
    "###### Variable length parameter?"
   ]
  },
  {
   "cell_type": "markdown",
   "metadata": {},
   "source": [
    "It is used to take number of comma seperated values as input in a single variable."
   ]
  },
  {
   "cell_type": "code",
   "execution_count": null,
   "metadata": {},
   "outputs": [],
   "source": [
    "def check_var(*m):\n",
    "    print(m)\n",
    "    \n",
    "check_var(234, 122, 33, 23, 23, 432)"
   ]
  },
  {
   "cell_type": "markdown",
   "metadata": {},
   "source": [
    "###### del vs remove vs pop"
   ]
  },
  {
   "cell_type": "markdown",
   "metadata": {},
   "source": [
    "The del keyword delete any variable, list of values from a list."
   ]
  },
  {
   "cell_type": "code",
   "execution_count": 7,
   "metadata": {},
   "outputs": [],
   "source": [
    "l1 = [1,2,3,4,5]\n",
    "l2 = [7,8,9]\n",
    "del l1[0]\n",
    "del l2"
   ]
  },
  {
   "cell_type": "code",
   "execution_count": 9,
   "metadata": {},
   "outputs": [
    {
     "name": "stdout",
     "output_type": "stream",
     "text": [
      "[2, 3, 4, 5]\n"
     ]
    },
    {
     "ename": "NameError",
     "evalue": "name 'l2' is not defined",
     "output_type": "error",
     "traceback": [
      "\u001b[1;31m---------------------------------------------------------------------------\u001b[0m",
      "\u001b[1;31mNameError\u001b[0m                                 Traceback (most recent call last)",
      "\u001b[1;32mc:\\Users\\gaura\\OneDrive\\Desktop\\0gaurav\\#finalYearProject\\Python DataScience DP\\Python Basics\\My folder\\interview.ipynb Cell 127'\u001b[0m in \u001b[0;36m<module>\u001b[1;34m\u001b[0m\n\u001b[0;32m      <a href='vscode-notebook-cell:/c%3A/Users/gaura/OneDrive/Desktop/0gaurav/%23finalYearProject/Python%20DataScience%20DP/Python%20Basics/My%20folder/interview.ipynb#ch0000127?line=0'>1</a>\u001b[0m \u001b[39mprint\u001b[39m(l1)\n\u001b[1;32m----> <a href='vscode-notebook-cell:/c%3A/Users/gaura/OneDrive/Desktop/0gaurav/%23finalYearProject/Python%20DataScience%20DP/Python%20Basics/My%20folder/interview.ipynb#ch0000127?line=2'>3</a>\u001b[0m \u001b[39mprint\u001b[39m(l2)\n",
      "\u001b[1;31mNameError\u001b[0m: name 'l2' is not defined"
     ]
    }
   ],
   "source": [
    "print(l1)\n",
    "\n",
    "print(l2) # l2 is not define because we use del keyword to delete l2 list."
   ]
  },
  {
   "cell_type": "markdown",
   "metadata": {},
   "source": [
    "The remove() method removes the first matching value from the list."
   ]
  },
  {
   "cell_type": "code",
   "execution_count": 13,
   "metadata": {},
   "outputs": [],
   "source": [
    "a = [2,4,6,8]\n",
    "a.remove(2)"
   ]
  },
  {
   "cell_type": "code",
   "execution_count": 14,
   "metadata": {},
   "outputs": [
    {
     "name": "stdout",
     "output_type": "stream",
     "text": [
      "[4, 6, 8]\n"
     ]
    }
   ],
   "source": [
    "print(a)"
   ]
  },
  {
   "cell_type": "markdown",
   "metadata": {},
   "source": [
    "The pop() method like del deletes value at a particular index. But pop method returns deleted values from the list."
   ]
  },
  {
   "cell_type": "code",
   "execution_count": 15,
   "metadata": {},
   "outputs": [
    {
     "data": {
      "text/plain": [
       "9"
      ]
     },
     "execution_count": 15,
     "metadata": {},
     "output_type": "execute_result"
    }
   ],
   "source": [
    "b = [9,7,5,3]\n",
    "\n",
    "b.pop(0)"
   ]
  },
  {
   "cell_type": "markdown",
   "metadata": {},
   "source": []
  },
  {
   "cell_type": "code",
   "execution_count": null,
   "metadata": {},
   "outputs": [],
   "source": []
  }
 ],
 "metadata": {
  "interpreter": {
   "hash": "dad35ac5c78b496eda946afbd550ec296dcc8552236347d45adb0399e9bdd932"
  },
  "kernelspec": {
   "display_name": "Python 3.9.10 64-bit",
   "language": "python",
   "name": "python3"
  },
  "language_info": {
   "codemirror_mode": {
    "name": "ipython",
    "version": 3
   },
   "file_extension": ".py",
   "mimetype": "text/x-python",
   "name": "python",
   "nbconvert_exporter": "python",
   "pygments_lexer": "ipython3",
   "version": "3.9.10"
  },
  "orig_nbformat": 4
 },
 "nbformat": 4,
 "nbformat_minor": 2
}
