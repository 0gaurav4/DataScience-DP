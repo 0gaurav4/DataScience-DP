{
 "cells": [
  {
   "cell_type": "markdown",
   "metadata": {},
   "source": [
    "### prime number"
   ]
  },
  {
   "cell_type": "code",
   "execution_count": 13,
   "metadata": {},
   "outputs": [],
   "source": [
    "try:\n",
    "    def prime(n,c=0):\n",
    "        for i in range(1,n):\n",
    "            if n % i ==0:\n",
    "                c=c+1\n",
    "            break\n",
    "        if c == 2:\n",
    "            print(f\"{n} is a prime number\")\n",
    "        else:\n",
    "            print(f\"{n} is not a prime number\")\n",
    "    n = int(input())\n",
    "    prime(n)\n",
    "except Exception as e:\n",
    "    print(\"Please enter only number\")\n",
    "            "
   ]
  },
  {
   "cell_type": "code",
   "execution_count": 12,
   "metadata": {},
   "outputs": [
    {
     "name": "stdout",
     "output_type": "stream",
     "text": [
      "2 is not a prime number\n"
     ]
    }
   ],
   "source": [
    "n = int(input())\n",
    "c = 0\n",
    "for i in range(1,n):\n",
    "    if n % i ==0:\n",
    "        c=c+1\n",
    "    break\n",
    "if c == 2:\n",
    "    print(f\"{n} is a prime number\")\n",
    "else:\n",
    "    print(f\"{n} is not a prime number\")"
   ]
  },
  {
   "cell_type": "code",
   "execution_count": 21,
   "metadata": {},
   "outputs": [
    {
     "name": "stdout",
     "output_type": "stream",
     "text": [
      "9 is not a prime number\n"
     ]
    }
   ],
   "source": [
    "n = int(input())\n",
    "i = 2\n",
    "c = 0\n",
    "while i < n:\n",
    "    if n%i == 0:\n",
    "        c=1\n",
    "        print(f\"{n} is not a prime number\")\n",
    "    i = i + 1\n",
    "if c == 0:\n",
    "    print(f\"{n} is a prime number\")\n",
    "    "
   ]
  },
  {
   "cell_type": "code",
   "execution_count": 22,
   "metadata": {},
   "outputs": [
    {
     "ename": "ValueError",
     "evalue": "invalid literal for int() with base 10: ''",
     "output_type": "error",
     "traceback": [
      "\u001b[1;31m---------------------------------------------------------------------------\u001b[0m",
      "\u001b[1;31mValueError\u001b[0m                                Traceback (most recent call last)",
      "\u001b[1;32mc:\\Users\\gaura\\OneDrive\\Desktop\\0gaurav\\#finalYearProject\\Python DataScience DP\\Python Basics\\My folder\\coding.ipynb Cell 5'\u001b[0m in \u001b[0;36m<module>\u001b[1;34m\u001b[0m\n\u001b[1;32m----> <a href='vscode-notebook-cell:/c%3A/Users/gaura/OneDrive/Desktop/0gaurav/%23finalYearProject/Python%20DataScience%20DP/Python%20Basics/My%20folder/coding.ipynb#ch0000010?line=0'>1</a>\u001b[0m n \u001b[39m=\u001b[39m \u001b[39mint\u001b[39;49m(\u001b[39minput\u001b[39;49m())\n\u001b[0;32m      <a href='vscode-notebook-cell:/c%3A/Users/gaura/OneDrive/Desktop/0gaurav/%23finalYearProject/Python%20DataScience%20DP/Python%20Basics/My%20folder/coding.ipynb#ch0000010?line=1'>2</a>\u001b[0m i \u001b[39m=\u001b[39m \u001b[39m2\u001b[39m\n\u001b[0;32m      <a href='vscode-notebook-cell:/c%3A/Users/gaura/OneDrive/Desktop/0gaurav/%23finalYearProject/Python%20DataScience%20DP/Python%20Basics/My%20folder/coding.ipynb#ch0000010?line=2'>3</a>\u001b[0m c \u001b[39m=\u001b[39m \u001b[39m0\u001b[39m\n",
      "\u001b[1;31mValueError\u001b[0m: invalid literal for int() with base 10: ''"
     ]
    }
   ],
   "source": [
    "n = int(input())\n",
    "i = 2\n",
    "c = 0\n",
    "while i < n:\n",
    "    if n%i == 0:\n",
    "        c=1\n",
    "        print(f\"{n} is a prime number\")\n",
    "    i = i + 1\n",
    "if c == 0:\n",
    "    print(f\"{n} is not a prime number\")\n",
    "if c !=1:\n",
    "    print(f\"{n} is not a prime number\")\n",
    "    \n"
   ]
  },
  {
   "cell_type": "code",
   "execution_count": 14,
   "metadata": {},
   "outputs": [
    {
     "ename": "ValueError",
     "evalue": "invalid literal for int() with base 10: ''",
     "output_type": "error",
     "traceback": [
      "\u001b[1;31m---------------------------------------------------------------------------\u001b[0m",
      "\u001b[1;31mValueError\u001b[0m                                Traceback (most recent call last)",
      "\u001b[1;32mc:\\Users\\gaura\\OneDrive\\Desktop\\0gaurav\\#finalYearProject\\Python DataScience DP\\Python Basics\\My folder\\coding.ipynb Cell 6'\u001b[0m in \u001b[0;36m<module>\u001b[1;34m\u001b[0m\n\u001b[1;32m----> <a href='vscode-notebook-cell:/c%3A/Users/gaura/OneDrive/Desktop/0gaurav/%23finalYearProject/Python%20DataScience%20DP/Python%20Basics/My%20folder/coding.ipynb#ch0000004?line=0'>1</a>\u001b[0m n \u001b[39m=\u001b[39m \u001b[39mint\u001b[39;49m(\u001b[39minput\u001b[39;49m())\n\u001b[0;32m      <a href='vscode-notebook-cell:/c%3A/Users/gaura/OneDrive/Desktop/0gaurav/%23finalYearProject/Python%20DataScience%20DP/Python%20Basics/My%20folder/coding.ipynb#ch0000004?line=1'>2</a>\u001b[0m \u001b[39mif\u001b[39;00m n\u001b[39m==\u001b[39m\u001b[39m1\u001b[39m:\n\u001b[0;32m      <a href='vscode-notebook-cell:/c%3A/Users/gaura/OneDrive/Desktop/0gaurav/%23finalYearProject/Python%20DataScience%20DP/Python%20Basics/My%20folder/coding.ipynb#ch0000004?line=2'>3</a>\u001b[0m     \u001b[39mFalse\u001b[39;00m\n",
      "\u001b[1;31mValueError\u001b[0m: invalid literal for int() with base 10: ''"
     ]
    }
   ],
   "source": [
    "n = int(input())\n",
    "if n==1:\n",
    "    False\n",
    "elif n==2:\n",
    "    True\n",
    "for i in range(2,n):\n",
    "    if n % i == 0:\n",
    "        False\n",
    "        print(f\"{n} is a prime number\")\n",
    "True\n",
    "print(f\"{n} is not a prime number\")"
   ]
  },
  {
   "cell_type": "code",
   "execution_count": null,
   "metadata": {},
   "outputs": [
    {
     "name": "stdout",
     "output_type": "stream",
     "text": [
      "2 is Prime\n"
     ]
    }
   ],
   "source": [
    "try:\n",
    "    def prime(n):\n",
    "        if (n==1):\n",
    "            return (f'{n} is Not Prime')\n",
    "        elif (n==2):\n",
    "            return (f'{n} is Prime')\n",
    "        else:\n",
    "            for i in range(2,n):\n",
    "                if (n % i ==0):\n",
    "                    return (f'{n} is Not Prime')\n",
    "            return (f'{n} is Prime')\n",
    "    n = int(input())\n",
    "    print(prime(n))\n",
    "except Exception as e:\n",
    "    print(f\"{e} ....Oops please enter only number!\")"
   ]
  },
  {
   "cell_type": "code",
   "execution_count": null,
   "metadata": {},
   "outputs": [
    {
     "name": "stdout",
     "output_type": "stream",
     "text": [
      "1 is Not Prime\n"
     ]
    }
   ],
   "source": [
    "try:\n",
    "    def prime(n):\n",
    "        if (n==1):\n",
    "            return (f'{n} is Not Prime')\n",
    "        else:\n",
    "            for i in range(2,n):\n",
    "                if (n % i ==0):\n",
    "                    return (f'{n} is Not Prime')\n",
    "            return (f'{n} is Prime')\n",
    "    n = int(input())\n",
    "    print(prime(n))\n",
    "except Exception as e:\n",
    "    print(f\"{e} ....Oops please enter only number!\")"
   ]
  },
  {
   "cell_type": "code",
   "execution_count": 78,
   "metadata": {},
   "outputs": [
    {
     "name": "stdout",
     "output_type": "stream",
     "text": [
      "4 is not a prime number\n"
     ]
    }
   ],
   "source": [
    "n = int(input())\n",
    "i = 2\n",
    "c = 0\n",
    "while i < n:\n",
    "    if n%i == 0:\n",
    "        c=1\n",
    "        print(f\"{n} is not a prime number\")\n",
    "    i = i + 1\n",
    "if n == 1:\n",
    "    print(f\"{n} is not a prime number\")\n",
    "elif c == 0:\n",
    "    print(f\"{n} is a prime number\")\n",
    "\n"
   ]
  },
  {
   "cell_type": "code",
   "execution_count": 10,
   "metadata": {},
   "outputs": [
    {
     "name": "stdout",
     "output_type": "stream",
     "text": [
      "12 is not a prime number\n",
      "12 is not a prime number\n",
      "12 is not a prime number\n",
      "12 is not a prime number\n"
     ]
    }
   ],
   "source": [
    "try:\n",
    "    def prime(n):\n",
    "        i = 2\n",
    "        c = 0\n",
    "        while i < n:\n",
    "            if n%i == 0:\n",
    "                c=1\n",
    "                print(f\"{n} is not a prime number\")\n",
    "            i = i + 1\n",
    "        if n == 1:\n",
    "            print(f\"{n} is not a prime number\")\n",
    "        elif c == 0:\n",
    "            print(f\"{n} is a prime number\")\n",
    "    n = int(input())\n",
    "    prime(n)\n",
    "except Exception as e:\n",
    "    print(f\"{e} ....Oops please enter only number!\")"
   ]
  },
  {
   "cell_type": "code",
   "execution_count": 5,
   "metadata": {},
   "outputs": [
    {
     "name": "stdout",
     "output_type": "stream",
     "text": [
      "3 is a prime number\n"
     ]
    }
   ],
   "source": [
    "n = int(input())\n",
    "i = 2\n",
    "c = 0\n",
    "while i < n:\n",
    "    if n%i == 0:\n",
    "        c=1\n",
    "        print(f\"{n} is not a prime number\")\n",
    "    i = i + 1\n",
    "if n==1:\n",
    "    print(f\"{n} is not a prime number\") \n",
    "elif c == 0:\n",
    "    print(f\"{n} is a prime number\")\n",
    "     "
   ]
  },
  {
   "cell_type": "code",
   "execution_count": 1,
   "metadata": {},
   "outputs": [
    {
     "name": "stdout",
     "output_type": "stream",
     "text": [
      "122 is not a prime number\n"
     ]
    }
   ],
   "source": [
    "try:\n",
    "    def isPrime(n):\n",
    "        i = 2\n",
    "        c = 0\n",
    "        for i in range(2,n):\n",
    "            if n%i == 0:\n",
    "                c=1\n",
    "                return (f\"{n} is not a prime number\")\n",
    "        if n == 1:\n",
    "            return(f\"{n} is not a prime number\")\n",
    "        elif c == 0:\n",
    "            return(f\"{n} is a prime number\")\n",
    "    n = int(input())\n",
    "    print(isPrime(n))\n",
    "except Exception as e:\n",
    "    print(f\"{e} ....Oops please enter only number!\")\n",
    "            \n",
    "             "
   ]
  },
  {
   "cell_type": "code",
   "execution_count": 4,
   "metadata": {},
   "outputs": [
    {
     "name": "stdout",
     "output_type": "stream",
     "text": [
      "Below age\n"
     ]
    }
   ],
   "source": [
    "a = int(input())\n",
    "if a >=18:\n",
    "    print(\"Adult\")\n",
    "else:\n",
    "    print(\"Below age\")\n",
    "    "
   ]
  },
  {
   "cell_type": "code",
   "execution_count": 7,
   "metadata": {},
   "outputs": [
    {
     "name": "stdout",
     "output_type": "stream",
     "text": [
      "Low sum\n"
     ]
    }
   ],
   "source": [
    "a = int(input())\n",
    "b = int(input())\n",
    "if (a+b)>=100:\n",
    "    print(\"High sum\")\n",
    "else:\n",
    "    print(\"Low sum\")"
   ]
  },
  {
   "cell_type": "code",
   "execution_count": 9,
   "metadata": {},
   "outputs": [
    {
     "name": "stdout",
     "output_type": "stream",
     "text": [
      "fair\n"
     ]
    }
   ],
   "source": [
    "student_marks = int(input())\n",
    "if student_marks >90:\n",
    "    print(\"excellent\")\n",
    "elif student_marks > 80 and student_marks <=90:\n",
    "    print(\"good\")\n",
    "elif student_marks > 70 and student_marks <=80:\n",
    "    print(\"fair\")\n",
    "elif student_marks > 60 and student_marks <=70:\n",
    "    print(\"meets expectations\")\n",
    "elif student_marks > 40 and student_marks <=60:\n",
    "    print(\"below par\")\n",
    "else:\n",
    "    print(\"failed\")"
   ]
  },
  {
   "cell_type": "code",
   "execution_count": 15,
   "metadata": {},
   "outputs": [
    {
     "name": "stdout",
     "output_type": "stream",
     "text": [
      "600\n"
     ]
    }
   ],
   "source": [
    "number_of_units = int(input())\n",
    "total_cost = number_of_units*100\n",
    "if total_cost > 1000:\n",
    "    print(total_cost-((total_cost*10)/100))\n",
    "else:\n",
    "    print(total_cost)\n",
    "    "
   ]
  },
  {
   "cell_type": "code",
   "execution_count": null,
   "metadata": {},
   "outputs": [],
   "source": []
  }
 ],
 "metadata": {
  "kernelspec": {
   "display_name": "Python 3.9.10 64-bit",
   "language": "python",
   "name": "python3"
  },
  "language_info": {
   "codemirror_mode": {
    "name": "ipython",
    "version": 3
   },
   "file_extension": ".py",
   "mimetype": "text/x-python",
   "name": "python",
   "nbconvert_exporter": "python",
   "pygments_lexer": "ipython3",
   "version": "3.9.10"
  },
  "orig_nbformat": 4,
  "vscode": {
   "interpreter": {
    "hash": "dad35ac5c78b496eda946afbd550ec296dcc8552236347d45adb0399e9bdd932"
   }
  }
 },
 "nbformat": 4,
 "nbformat_minor": 2
}
