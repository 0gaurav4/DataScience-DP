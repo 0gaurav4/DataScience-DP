{
 "cells": [
  {
   "cell_type": "code",
   "execution_count": 2,
   "metadata": {},
   "outputs": [],
   "source": [
    "import os"
   ]
  },
  {
   "cell_type": "code",
   "execution_count": 3,
   "metadata": {},
   "outputs": [
    {
     "data": {
      "text/plain": [
       "['.vscode',\n",
       " 'account.py',\n",
       " 'c#',\n",
       " 'classes.py',\n",
       " 'Comment.py',\n",
       " 'Computer.py',\n",
       " 'conditionsandloop.ipynb',\n",
       " 'copyexample.txt',\n",
       " 'dictionary.ipynb',\n",
       " 'example.txt',\n",
       " 'fileHandeling.ipynb',\n",
       " 'filehandling.py',\n",
       " 'folderX',\n",
       " 'functions.ipynb',\n",
       " 'list.ipynb',\n",
       " 'listComprehension.ipynb',\n",
       " 'set.ipynb',\n",
       " 'string.ipynb',\n",
       " 'tuple.ipynb',\n",
       " 'usingConstructor.py',\n",
       " 'util.py',\n",
       " '__pycache__']"
      ]
     },
     "execution_count": 3,
     "metadata": {},
     "output_type": "execute_result"
    }
   ],
   "source": [
    "os.listdir()"
   ]
  },
  {
   "cell_type": "code",
   "execution_count": 4,
   "metadata": {},
   "outputs": [],
   "source": [
    "# Absolute path - c:/Winter Training/Python/Basics \n",
    "# -- location of a file from root directory.\n",
    "\n",
    "# Relative path - ./Basics\n",
    "# -- related to present working directory."
   ]
  },
  {
   "cell_type": "code",
   "execution_count": 5,
   "metadata": {},
   "outputs": [
    {
     "data": {
      "text/plain": [
       "'c:\\\\Users\\\\gaura\\\\OneDrive\\\\Desktop\\\\0gaurav\\\\#finalYearProject\\\\Python DataScience DP\\\\Python Basics'"
      ]
     },
     "execution_count": 5,
     "metadata": {},
     "output_type": "execute_result"
    }
   ],
   "source": [
    "os.getcwd()"
   ]
  },
  {
   "cell_type": "code",
   "execution_count": 6,
   "metadata": {},
   "outputs": [],
   "source": [
    "os.mkdir('My folder')"
   ]
  },
  {
   "cell_type": "code",
   "execution_count": 8,
   "metadata": {},
   "outputs": [],
   "source": [
    "with open('./My folder/myfile.txt', 'w') as f:\n",
    "    f.write('file text here')"
   ]
  },
  {
   "cell_type": "code",
   "execution_count": 17,
   "metadata": {},
   "outputs": [
    {
     "name": "stdout",
     "output_type": "stream",
     "text": [
      "account.py\n",
      "classes.py\n",
      "Comment.py\n",
      "Computer.py\n",
      "filehandling.py\n",
      "usingConstructor.py\n",
      "util.py\n"
     ]
    }
   ],
   "source": [
    "path = os.getcwd()\n",
    "for i in os.listdir() :\n",
    "    # print(i)\n",
    "    if( os.path.isfile(path+'/'+i) ):\n",
    "        # print(i)\n",
    "        if i.endswith('py'):\n",
    "            print(i)"
   ]
  },
  {
   "cell_type": "code",
   "execution_count": 21,
   "metadata": {},
   "outputs": [
    {
     "ename": "FileNotFoundError",
     "evalue": "[WinError 3] The system cannot find the path specified: 'd:/Documents'",
     "output_type": "error",
     "traceback": [
      "\u001b[1;31m---------------------------------------------------------------------------\u001b[0m",
      "\u001b[1;31mFileNotFoundError\u001b[0m                         Traceback (most recent call last)",
      "\u001b[1;32mc:\\Users\\gaura\\OneDrive\\Desktop\\0gaurav\\#finalYearProject\\Python DataScience DP\\Python Basics\\fileHandeling.ipynb Cell 8'\u001b[0m in \u001b[0;36m<module>\u001b[1;34m\u001b[0m\n\u001b[1;32m----> <a href='vscode-notebook-cell:/c%3A/Users/gaura/OneDrive/Desktop/0gaurav/%23finalYearProject/Python%20DataScience%20DP/Python%20Basics/fileHandeling.ipynb#ch0000010?line=0'>1</a>\u001b[0m os\u001b[39m.\u001b[39;49mlistdir(\u001b[39m'\u001b[39;49m\u001b[39md:/Documents\u001b[39;49m\u001b[39m'\u001b[39;49m)\n",
      "\u001b[1;31mFileNotFoundError\u001b[0m: [WinError 3] The system cannot find the path specified: 'd:/Documents'"
     ]
    }
   ],
   "source": [
    "os.listdir('d:/Documents')"
   ]
  },
  {
   "cell_type": "markdown",
   "metadata": {},
   "source": [
    ">>> Exception Handeling"
   ]
  },
  {
   "cell_type": "code",
   "execution_count": 24,
   "metadata": {},
   "outputs": [
    {
     "name": "stdout",
     "output_type": "stream",
     "text": [
      "an error occured\n",
      "[Errno 2] No such file or directory: 'hello.py'\n",
      "this should be visible\n",
      "2nd line\n",
      "this should be appended\n",
      "new line\n",
      "this should be appended\n",
      "new line\n",
      "this should be appended\n",
      "new line\n"
     ]
    }
   ],
   "source": [
    "try:\n",
    "    with open('hello.py') as f:\n",
    "        print(f.read())\n",
    "except Exception as e:\n",
    "    print('an error occured')\n",
    "    print(e)\n",
    "    \n",
    "    with open('example.txt') as f:\n",
    "        print(f.read())"
   ]
  },
  {
   "cell_type": "code",
   "execution_count": null,
   "metadata": {},
   "outputs": [],
   "source": []
  }
 ],
 "metadata": {
  "interpreter": {
   "hash": "d561c1bf2e6851bd79211bead0d24080a821613026c569880630f742ae255c4b"
  },
  "kernelspec": {
   "display_name": "Python 3.9.10 64-bit",
   "language": "python",
   "name": "python3"
  },
  "language_info": {
   "codemirror_mode": {
    "name": "ipython",
    "version": 3
   },
   "file_extension": ".py",
   "mimetype": "text/x-python",
   "name": "python",
   "nbconvert_exporter": "python",
   "pygments_lexer": "ipython3",
   "version": "3.9.10"
  },
  "orig_nbformat": 4
 },
 "nbformat": 4,
 "nbformat_minor": 2
}
