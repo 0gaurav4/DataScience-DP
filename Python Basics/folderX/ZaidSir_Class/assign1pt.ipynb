{
 "cells": [
  {
   "cell_type": "code",
   "execution_count": 4,
   "metadata": {},
   "outputs": [
    {
     "name": "stdout",
     "output_type": "stream",
     "text": [
      "Input = typo\n",
      " Output = typo\n"
     ]
    }
   ],
   "source": [
    "# 1. Create a string and print it.\n",
    "\n",
    "name = input() \n",
    "print(f\"Input = {name}\\n Output =\",name)"
   ]
  },
  {
   "cell_type": "code",
   "execution_count": 3,
   "metadata": {},
   "outputs": [
    {
     "name": "stdout",
     "output_type": "stream",
     "text": [
      "Input =   typo \n",
      " And length of string is : 4\n"
     ]
    }
   ],
   "source": [
    "# 2. Take a string input and print it's length.\n",
    "\n",
    "name = input() \n",
    "print(\"Input =  \",name,\"\\n And length of string is :\" ,len(name))"
   ]
  },
  {
   "cell_type": "code",
   "execution_count": 6,
   "metadata": {},
   "outputs": [
    {
     "name": "stdout",
     "output_type": "stream",
     "text": [
      "great\n"
     ]
    }
   ],
   "source": [
    "# 3. Print the last word of the string Python is great using slices.\n",
    "\n",
    "string = 'Python is great'\n",
    "print(string[10:16])"
   ]
  },
  {
   "cell_type": "code",
   "execution_count": 15,
   "metadata": {},
   "outputs": [
    {
     "data": {
      "text/plain": [
       "'great'"
      ]
     },
     "execution_count": 15,
     "metadata": {},
     "output_type": "execute_result"
    }
   ],
   "source": [
    "# OR\n",
    "# 3. Print the last word of the string Python is great using slices.\n",
    "\n",
    "string = 'Python is great'\n",
    "lis = list(string.split(' '))\n",
    "length = len(lis)\n",
    "lis[length-1]"
   ]
  },
  {
   "cell_type": "code",
   "execution_count": 16,
   "metadata": {},
   "outputs": [
    {
     "name": "stdout",
     "output_type": "stream",
     "text": [
      "python\n",
      "is\n",
      "everywhere\n"
     ]
    }
   ],
   "source": [
    "# 4. Print the each word in different line of string python is everywhere.\n",
    "\n",
    "for word in \"python is everywhere\".split(): print(word)"
   ]
  },
  {
   "cell_type": "code",
   "execution_count": 17,
   "metadata": {},
   "outputs": [
    {
     "name": "stdout",
     "output_type": "stream",
     "text": [
      "!dlroW olleH\n"
     ]
    }
   ],
   "source": [
    "# 5. Print the string Hello World! in reverse.\n",
    "\n",
    "e1 = \"Hello World!\"\n",
    "print(e1[::-1])"
   ]
  },
  {
   "cell_type": "code",
   "execution_count": 19,
   "metadata": {},
   "outputs": [
    {
     "data": {
      "text/plain": [
       "'HOW ARE YOU?'"
      ]
     },
     "execution_count": 19,
     "metadata": {},
     "output_type": "execute_result"
    }
   ],
   "source": [
    "# 6. Convert the string How are you? in uppercase.\n",
    "\n",
    "str1 = \"How are you?\"\n",
    "str1.upper()"
   ]
  },
  {
   "cell_type": "code",
   "execution_count": 20,
   "metadata": {},
   "outputs": [
    {
     "data": {
      "text/plain": [
       "'how is it going?'"
      ]
     },
     "execution_count": 20,
     "metadata": {},
     "output_type": "execute_result"
    }
   ],
   "source": [
    "#  7. Convert the string How Is It Going? in lowercase.\n",
    "\n",
    "str2 = \"How Is It Going?\"\n",
    "str2.lower()"
   ]
  },
  {
   "cell_type": "code",
   "execution_count": 69,
   "metadata": {},
   "outputs": [
    {
     "name": "stdout",
     "output_type": "stream",
     "text": [
      "Python is easy to learn\n"
     ]
    }
   ],
   "source": [
    "# 8. Join the following list by spaces( ) and print the result.\n",
    "\n",
    "# words = ['Python', 'is', 'easy', 'to', 'learn']\n",
    "\n",
    "def convert(words):\n",
    "      \n",
    "    return ' '.join(words)\n",
    "      \n",
    "# Driver code\n",
    "words = ['Python', 'is', 'easy', 'to', 'learn']\n",
    "print(convert(words))\n",
    "\n",
    "\n",
    "\n",
    "\n",
    "# words1=str(words)\n",
    "# s1 =str(words1.strip('[] ').replace(',',\" \"))\n",
    "# (s1)\n",
    "\n"
   ]
  },
  {
   "cell_type": "code",
   "execution_count": 23,
   "metadata": {},
   "outputs": [
    {
     "name": "stdout",
     "output_type": "stream",
     "text": [
      " this is a \n",
      " multiline string \n",
      " for need.\n"
     ]
    }
   ],
   "source": [
    "  # 9. Print a multiline string using a single print\n",
    "\n",
    "multiline = ''' this is a \n",
    " multiline string \n",
    " for need.'''\n",
    "print(multiline)"
   ]
  },
  {
   "cell_type": "code",
   "execution_count": 26,
   "metadata": {},
   "outputs": [
    {
     "name": "stdout",
     "output_type": "stream",
     "text": [
      " this is a \n",
      " multiline string \n",
      " for need.\n"
     ]
    }
   ],
   "source": [
    "# 10. Print this string to move to newline '\\n' is used. (results should look exactly like the provided string)\n",
    "\n",
    "line1 = \" this is a\"\n",
    "line2 = \"multiline string\" \n",
    "line3 = \"for need.\"\n",
    "print(line1,\"\\n\",line2,\"\\n\",line3)"
   ]
  },
  {
   "cell_type": "code",
   "execution_count": 24,
   "metadata": {},
   "outputs": [
    {
     "name": "stdout",
     "output_type": "stream",
     "text": [
      "the variable is 15\n"
     ]
    }
   ],
   "source": [
    "# 11.  Print a variable with some text using a single print function, output should look like following.\n",
    "\n",
    "var = \"the variable is 15\"\n",
    "print(var)"
   ]
  },
  {
   "cell_type": "code",
   "execution_count": 29,
   "metadata": {},
   "outputs": [
    {
     "name": "stdout",
     "output_type": "stream",
     "text": [
      "python is great.\n"
     ]
    }
   ],
   "source": [
    "# 12. concatenate the following strings and print the result\n",
    "\n",
    "s1 = 'python '\n",
    "s2 = 'is '\n",
    "s3 = 'great.'\n",
    "print(s1+s2+s3)"
   ]
  },
  {
   "cell_type": "code",
   "execution_count": 2,
   "metadata": {},
   "outputs": [
    {
     "name": "stdout",
     "output_type": "stream",
     "text": [
      "# \t# \t# \t# \t# \t# \t# \t# \t# \t# \t# \t# \t# \t# \t# \t# \t# \t# \t# \t# \t\n"
     ]
    }
   ],
   "source": [
    "# 13. Print # 20 times without using a loop\n",
    "\n",
    "print(\"# \\t\"*20)"
   ]
  },
  {
   "cell_type": "code",
   "execution_count": 56,
   "metadata": {},
   "outputs": [
    {
     "name": "stdout",
     "output_type": "stream",
     "text": [
      "1 .\n",
      "2 .\n",
      "3 .\n",
      "4 .\n",
      "5 .\n",
      "6 .\n",
      "7 .\n",
      "8 .\n",
      "9 .\n"
     ]
    }
   ],
   "source": [
    "# 14. Print numbers from 1 to 9, each on a seperate line, followed by a dot, output should look like the following-\n",
    "\n",
    "for i in range(1,10):\n",
    "    print(i,'.')"
   ]
  },
  {
   "cell_type": "code",
   "execution_count": 57,
   "metadata": {},
   "outputs": [
    {
     "name": "stdout",
     "output_type": "stream",
     "text": [
      "this\n",
      "is\n",
      "a\n",
      "sentece\n",
      "for\n",
      "this\n",
      "code\n",
      "to\n",
      "print\n",
      "each\n",
      "word\n",
      "in\n",
      "a\n",
      "new\n",
      "line\n"
     ]
    }
   ],
   "source": [
    "# 15. Ask user to input a sentence and print each word on a different line.\n",
    "\n",
    "for word in input(\"enter some lines : \").split(): print(word)"
   ]
  },
  {
   "cell_type": "code",
   "execution_count": 11,
   "metadata": {},
   "outputs": [
    {
     "name": "stdout",
     "output_type": "stream",
     "text": [
      " String =  typo? ok ...>>> contains symbol = ? ...>>>  True\n"
     ]
    }
   ],
   "source": [
    "# 16. Ask user to input a string and check if the string ends with '?'\n",
    "\n",
    "string1 = input() \n",
    "print(f' String =  {string1} ...>>> contains symbol = ? ...>>> ','?' in string1)"
   ]
  },
  {
   "cell_type": "code",
   "execution_count": 17,
   "metadata": {},
   "outputs": [
    {
     "name": "stdout",
     "output_type": "stream",
     "text": [
      " String =  nbvceecvbde ...>>> *e* appeared in ...>>> 3  times.\n"
     ]
    }
   ],
   "source": [
    "# 17. Ask user to input a string and print how many times e appeared in the string\n",
    "\n",
    "string2 = input() \n",
    "print(f' String =  {string2} ...>>> *e* appeared in ...>>>', string2.count('e'),' times.' )\n",
    "\n",
    "\n",
    "# s = input() \n",
    "# print(' String = ',s,'...>>> e in string ...>>>',s.count('e'),' times.')"
   ]
  },
  {
   "cell_type": "code",
   "execution_count": 17,
   "metadata": {},
   "outputs": [
    {
     "name": "stdout",
     "output_type": "stream",
     "text": [
      "User input =  567 \n",
      "is numeric ? =  True\n"
     ]
    }
   ],
   "source": [
    "# 18. Check if the user input is a number.\n",
    "\n",
    "x = input()\n",
    "print(\"User input = \",x,\"\\nis numeric ? = \",x.isnumeric())\n"
   ]
  },
  {
   "cell_type": "code",
   "execution_count": 19,
   "metadata": {},
   "outputs": [
    {
     "data": {
      "text/plain": [
       "'this is not a good string'"
      ]
     },
     "execution_count": 19,
     "metadata": {},
     "output_type": "execute_result"
    }
   ],
   "source": [
    "# 19. Remove the extra spaces in beginning and in the end of the following string-\n",
    "\n",
    "text = '   this is not a good string     '\n",
    "text.strip()"
   ]
  },
  {
   "cell_type": "code",
   "execution_count": 28,
   "metadata": {},
   "outputs": [
    {
     "name": "stdout",
     "output_type": "stream",
     "text": [
      "Input =  RFG \n",
      "uppercase in string :\n",
      "found\n"
     ]
    }
   ],
   "source": [
    "# 20. Ask user to input string, print found if any of the character is upper case.\n",
    "\n",
    "userStr = input()\n",
    "print(\"Input = \",userStr,\"\\nuppercase in string :\")\n",
    "if userStr.isupper():\n",
    "    print('found')\n",
    "else:\n",
    "    print('not found')"
   ]
  },
  {
   "cell_type": "code",
   "execution_count": 33,
   "metadata": {},
   "outputs": [
    {
     "data": {
      "text/plain": [
       "['Joe,', 'David,', 'Mark,', 'Tom,', 'Chris,', 'Robert']"
      ]
     },
     "execution_count": 33,
     "metadata": {},
     "output_type": "execute_result"
    }
   ],
   "source": [
    "# 21. Extract names from the following string and store them in a list.\n",
    "\n",
    "names = 'Joe, David, Mark, Tom, Chris, Robert'\n",
    "list(names.split())\n"
   ]
  },
  {
   "cell_type": "code",
   "execution_count": 20,
   "metadata": {},
   "outputs": [
    {
     "name": "stdout",
     "output_type": "stream",
     "text": [
      "thisaye\n",
      "isaye\n",
      "someaye\n",
      "textaye\n"
     ]
    }
   ],
   "source": [
    "# 22. In the following string, add aye in the end of every word and print the results.\n",
    "\n",
    "def use(text):\n",
    "    words = text.split()\n",
    "    for word in words:\n",
    "        print(word+'aye')\n",
    "\n",
    "text = 'this is some text'\n",
    "use(text)\n"
   ]
  },
  {
   "cell_type": "code",
   "execution_count": 39,
   "metadata": {},
   "outputs": [
    {
     "name": "stdout",
     "output_type": "stream",
     "text": [
      "Input :  jhvcfyi \n",
      "Check input contain *fyi* :\n"
     ]
    },
    {
     "data": {
      "text/plain": [
       "True"
      ]
     },
     "execution_count": 39,
     "metadata": {},
     "output_type": "execute_result"
    }
   ],
   "source": [
    "# 23. ask user to enter a string and check if the string contains fyi\n",
    "\n",
    "userStr1 = input()\n",
    "print('Input : ',userStr1,'\\nCheck input contain *fyi* :')\n",
    "'fyi' in userStr1"
   ]
  },
  {
   "cell_type": "code",
   "execution_count": 35,
   "metadata": {},
   "outputs": [
    {
     "name": "stdout",
     "output_type": "stream",
     "text": [
      "p34yt68hon404\n"
     ]
    }
   ],
   "source": [
    "# 24. Remove all the special characters and numbers from the following string\n",
    "# text = '%p34@y!*-*!t68h#&on404'\n",
    "\n",
    "from string import punctuation\n",
    "text = \"%p34@y!*-*!t68h#&on404\"\n",
    "for p in punctuation:\n",
    "    text = text.replace(p,'')\n",
    "print(text)"
   ]
  },
  {
   "cell_type": "code",
   "execution_count": 50,
   "metadata": {},
   "outputs": [
    {
     "name": "stdout",
     "output_type": "stream",
     "text": [
      "average word lenght :  4.636363636363637\n"
     ]
    }
   ],
   "source": [
    "# 25. calculate the average word length of the following paragraph.\n",
    "\n",
    "sentences = ''' This is a paragraph which is written just for the purpose of\n",
    "providing content to let the average word length be calculated'''\n",
    "\n",
    "words = sentences.split()\n",
    "sizes = []\n",
    "for word in words:\n",
    "    sizes.append(len(word))\n",
    "print('average word lenght : ',sum(sizes)/len(sizes))"
   ]
  },
  {
   "cell_type": "code",
   "execution_count": 52,
   "metadata": {},
   "outputs": [
    {
     "name": "stdout",
     "output_type": "stream",
     "text": [
      "average word lenght :  4.636363636363637\n"
     ]
    }
   ],
   "source": [
    "# 25. Using list comprehension\n",
    "\n",
    "sizes = [len(word) for word in sentences.split()]\n",
    "print('average word lenght : ',sum(sizes)/len(sizes))"
   ]
  },
  {
   "cell_type": "code",
   "execution_count": null,
   "metadata": {},
   "outputs": [],
   "source": [
    "# https://github.com/zaid-kamil/String-and-string-functions"
   ]
  }
 ],
 "metadata": {
  "kernelspec": {
   "display_name": "Python 3.9.10 64-bit",
   "language": "python",
   "name": "python3"
  },
  "language_info": {
   "codemirror_mode": {
    "name": "ipython",
    "version": 3
   },
   "file_extension": ".py",
   "mimetype": "text/x-python",
   "name": "python",
   "nbconvert_exporter": "python",
   "pygments_lexer": "ipython3",
   "version": "3.9.10"
  },
  "orig_nbformat": 4,
  "vscode": {
   "interpreter": {
    "hash": "dad35ac5c78b496eda946afbd550ec296dcc8552236347d45adb0399e9bdd932"
   }
  }
 },
 "nbformat": 4,
 "nbformat_minor": 2
}
