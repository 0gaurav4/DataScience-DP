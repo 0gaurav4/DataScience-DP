{
 "cells": [
  {
   "cell_type": "markdown",
   "metadata": {},
   "source": [
    ">>> 8 march functions"
   ]
  },
  {
   "cell_type": "code",
   "execution_count": 1,
   "metadata": {},
   "outputs": [
    {
     "name": "stdout",
     "output_type": "stream",
     "text": [
      "My function🙌\n"
     ]
    }
   ],
   "source": [
    "def check():\n",
    "    print(\"My function🙌\")\n",
    "\n"
   ]
  },
  {
   "cell_type": "code",
   "execution_count": 2,
   "metadata": {},
   "outputs": [
    {
     "name": "stdout",
     "output_type": "stream",
     "text": [
      "My function🙌\n"
     ]
    }
   ],
   "source": [
    "check()"
   ]
  },
  {
   "cell_type": "code",
   "execution_count": 6,
   "metadata": {},
   "outputs": [
    {
     "name": "stdout",
     "output_type": "stream",
     "text": [
      "My function🙌\n",
      "My function🙌\n",
      "My function🙌\n",
      "My function🙌\n"
     ]
    }
   ],
   "source": [
    "for i in range(0,4):\n",
    "    check()"
   ]
  },
  {
   "cell_type": "code",
   "execution_count": 2,
   "metadata": {},
   "outputs": [],
   "source": [
    "def div(a,b):\n",
    "    ans = a/b\n",
    "    print(ans)"
   ]
  },
  {
   "cell_type": "code",
   "execution_count": 24,
   "metadata": {},
   "outputs": [
    {
     "name": "stdout",
     "output_type": "stream",
     "text": [
      "2.0\n",
      "10.0\n"
     ]
    }
   ],
   "source": [
    "div(10,5)\n",
    "div(50,5)\n"
   ]
  },
  {
   "cell_type": "code",
   "execution_count": 3,
   "metadata": {},
   "outputs": [
    {
     "ename": "TypeError",
     "evalue": "div() missing 1 required positional argument: 'b'",
     "output_type": "error",
     "traceback": [
      "\u001b[1;31m---------------------------------------------------------------------------\u001b[0m",
      "\u001b[1;31mTypeError\u001b[0m                                 Traceback (most recent call last)",
      "\u001b[1;32mc:\\Users\\gaura\\OneDrive\\Desktop\\0gaurav\\#finalYearProject\\Python DataScience DP\\Python Basics\\folderX\\ZaidSir_Class\\class12.ipynb Cell 7'\u001b[0m in \u001b[0;36m<module>\u001b[1;34m\u001b[0m\n\u001b[1;32m----> <a href='vscode-notebook-cell:/c%3A/Users/gaura/OneDrive/Desktop/0gaurav/%23finalYearProject/Python%20DataScience%20DP/Python%20Basics/folderX/ZaidSir_Class/class12.ipynb#ch0000006?line=0'>1</a>\u001b[0m div(\u001b[39m8.0\u001b[39;49m\u001b[39m/\u001b[39;49m\u001b[39m2.0\u001b[39;49m)\n",
      "\u001b[1;31mTypeError\u001b[0m: div() missing 1 required positional argument: 'b'"
     ]
    }
   ],
   "source": [
    "div(8.0/2.0)"
   ]
  },
  {
   "cell_type": "code",
   "execution_count": 30,
   "metadata": {},
   "outputs": [],
   "source": [
    "def update_salary(old_salary):\n",
    "    new_salary = old_salary + old_salary * .05\n",
    "    print(f\"{old_salary},{new_salary}\")\n",
    "    \n",
    "def remove_hra(salary):\n",
    "    new_salary = salary - salary * .05\n",
    "    print(f\"{salary},{new_salary}\")"
   ]
  },
  {
   "cell_type": "code",
   "execution_count": 31,
   "metadata": {},
   "outputs": [
    {
     "name": "stdout",
     "output_type": "stream",
     "text": [
      "1000,1050.0\n"
     ]
    }
   ],
   "source": [
    "update_salary(1000)"
   ]
  },
  {
   "cell_type": "code",
   "execution_count": 1,
   "metadata": {},
   "outputs": [],
   "source": [
    "def total(a,b,c,d,e):\n",
    "    return a+b+c+d+e"
   ]
  },
  {
   "cell_type": "code",
   "execution_count": 2,
   "metadata": {},
   "outputs": [
    {
     "name": "stdout",
     "output_type": "stream",
     "text": [
      "1 + 2 + 3 + 4 + 5 = 15\n"
     ]
    }
   ],
   "source": [
    "a,b,c,d,e = int(input()), int(input()),  int(input()), int(input()),  int(input())\n",
    "print(a,'+',b,'+',c,'+',d,'+',e,'=',total(a,b,c,d,e))\n"
   ]
  },
  {
   "cell_type": "code",
   "execution_count": 4,
   "metadata": {},
   "outputs": [
    {
     "name": "stdout",
     "output_type": "stream",
     "text": [
      "15\n"
     ]
    }
   ],
   "source": [
    "\n",
    "for i in range(5): int(input())\n",
    "print(total(a,b,c,d,e))"
   ]
  },
  {
   "cell_type": "markdown",
   "metadata": {},
   "source": [
    ">>> 9 march"
   ]
  },
  {
   "cell_type": "markdown",
   "metadata": {},
   "source": [
    ">>> wap to return true or false if number is even or odd"
   ]
  },
  {
   "cell_type": "code",
   "execution_count": 7,
   "metadata": {},
   "outputs": [
    {
     "name": "stdout",
     "output_type": "stream",
     "text": [
      "3\n"
     ]
    },
    {
     "data": {
      "text/plain": [
       "False"
      ]
     },
     "execution_count": 7,
     "metadata": {},
     "output_type": "execute_result"
    }
   ],
   "source": [
    "def evenodd(x):\n",
    "    if x % 2 == 0 :\n",
    "        return True\n",
    "    else:\n",
    "        return False\n",
    "    \n",
    "a = int(input(\"Enter any number to check even or odd :\"))\n",
    "print(a)\n",
    "evenodd(a)"
   ]
  },
  {
   "cell_type": "markdown",
   "metadata": {},
   "source": [
    ">>>  wap to remove all vowels from a sentence given in a function"
   ]
  },
  {
   "cell_type": "code",
   "execution_count": 50,
   "metadata": {},
   "outputs": [
    {
     "name": "stdout",
     "output_type": "stream",
     "text": [
      " eiou\n",
      "a iou\n",
      "ae ou\n",
      "aei u\n",
      "aeio \n",
      "removal of vowels in your sentence  *aeiou* = :  None\n"
     ]
    }
   ],
   "source": [
    "def removeVowels(name1):\n",
    "    if('a' or 'e' or 'i' or 'o' or 'u' or 'A' or 'E' or 'I' or 'O' or 'U') in name1:\n",
    "        for i in name1:\n",
    "            print (name1.replace(i,\" \"))\n",
    "        \n",
    "name = input(\" Please Enter a sentence :\")\n",
    "print(f\"removal of vowels in your sentence  *{name}* = : \",removeVowels(name))"
   ]
  },
  {
   "attachments": {},
   "cell_type": "markdown",
   "metadata": {},
   "source": [
    ">>>  wap to remove all vowels from a sentence given in a function\n"
   ]
  },
  {
   "cell_type": "code",
   "execution_count": 7,
   "metadata": {},
   "outputs": [
    {
     "name": "stdout",
     "output_type": "stream",
     "text": [
      "removal of vowels in your sentence 👉  Aeiou this is a   = 👉 \t ths s\n"
     ]
    }
   ],
   "source": [
    "def removeVowels(text):\n",
    "    for i in \"aeiouAEIOU\":\n",
    "        text = text.replace(i,\"\")\n",
    "    return text\n",
    "\n",
    "name = input(\" Please Enter a sentence :\")\n",
    "print(f\"removal of vowels in your sentence 👉 {name} = 👉 \\t\",removeVowels(name).strip(' '))"
   ]
  },
  {
   "cell_type": "markdown",
   "metadata": {},
   "source": [
    ">>> wap to return the second highest value from a list given as parameters"
   ]
  },
  {
   "cell_type": "code",
   "execution_count": 85,
   "metadata": {},
   "outputs": [
    {
     "name": "stdout",
     "output_type": "stream",
     "text": [
      "('list = ', [5, 6, 7, 8, 9], ' second largest = ', 8)\n"
     ]
    }
   ],
   "source": [
    "def removeSecondMax(num):\n",
    "    list1 = []\n",
    "    for i in range(1, num + 1):\n",
    "        ele = int(input(\"Enter elements: \"))\n",
    "        list1.append(ele)\n",
    "        list1.sort()\n",
    "    a = (\"list = \",list1,\" second largest = \",list1[-2])\n",
    "    return a\n",
    "\n",
    "num = int(input(\"Enter number of elements in list: \"))\n",
    "print(removeSecondMax(num))"
   ]
  },
  {
   "cell_type": "code",
   "execution_count": null,
   "metadata": {},
   "outputs": [],
   "source": []
  }
 ],
 "metadata": {
  "kernelspec": {
   "display_name": "Python 3.9.10 64-bit",
   "language": "python",
   "name": "python3"
  },
  "language_info": {
   "codemirror_mode": {
    "name": "ipython",
    "version": 3
   },
   "file_extension": ".py",
   "mimetype": "text/x-python",
   "name": "python",
   "nbconvert_exporter": "python",
   "pygments_lexer": "ipython3",
   "version": "3.9.10"
  },
  "orig_nbformat": 4,
  "vscode": {
   "interpreter": {
    "hash": "dad35ac5c78b496eda946afbd550ec296dcc8552236347d45adb0399e9bdd932"
   }
  }
 },
 "nbformat": 4,
 "nbformat_minor": 2
}
