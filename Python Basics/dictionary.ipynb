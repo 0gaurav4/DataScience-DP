{
 "cells": [
  {
   "cell_type": "code",
   "execution_count": 1,
   "metadata": {},
   "outputs": [
    {
     "data": {
      "text/plain": [
       "dict"
      ]
     },
     "execution_count": 1,
     "metadata": {},
     "output_type": "execute_result"
    }
   ],
   "source": [
    "a_dict=dict()\n",
    "type(a_dict)"
   ]
  },
  {
   "cell_type": "code",
   "execution_count": 3,
   "metadata": {},
   "outputs": [
    {
     "data": {
      "text/plain": [
       "dict"
      ]
     },
     "execution_count": 3,
     "metadata": {},
     "output_type": "execute_result"
    }
   ],
   "source": [
    "a_dict={}\n",
    "type(a_dict)"
   ]
  },
  {
   "cell_type": "code",
   "execution_count": 7,
   "metadata": {},
   "outputs": [],
   "source": [
    "a_dict={'a':1, 'b':2, 'c':3}"
   ]
  },
  {
   "cell_type": "code",
   "execution_count": 10,
   "metadata": {},
   "outputs": [
    {
     "data": {
      "text/plain": [
       "1"
      ]
     },
     "execution_count": 10,
     "metadata": {},
     "output_type": "execute_result"
    }
   ],
   "source": [
    "a_dict['a']"
   ]
  },
  {
   "cell_type": "code",
   "execution_count": 11,
   "metadata": {},
   "outputs": [
    {
     "data": {
      "text/plain": [
       "2"
      ]
     },
     "execution_count": 11,
     "metadata": {},
     "output_type": "execute_result"
    }
   ],
   "source": [
    "a_dict.get('b')"
   ]
  },
  {
   "cell_type": "code",
   "execution_count": 12,
   "metadata": {},
   "outputs": [],
   "source": [
    "# dict list tuple -- mutable"
   ]
  },
  {
   "cell_type": "code",
   "execution_count": 16,
   "metadata": {},
   "outputs": [
    {
     "data": {
      "text/plain": [
       "{'A': 123, 'B': 'Blue', 'C': 45.0}"
      ]
     },
     "execution_count": 16,
     "metadata": {},
     "output_type": "execute_result"
    }
   ],
   "source": [
    "a_dict = {'A':123 , 'B':'Blue', 'C':45.00}\n",
    "a_dict"
   ]
  },
  {
   "cell_type": "code",
   "execution_count": 17,
   "metadata": {},
   "outputs": [],
   "source": [
    "a_dict['B']=\"blur\""
   ]
  },
  {
   "cell_type": "code",
   "execution_count": 18,
   "metadata": {},
   "outputs": [
    {
     "data": {
      "text/plain": [
       "{'A': 123, 'B': 'blur', 'C': 45.0}"
      ]
     },
     "execution_count": 18,
     "metadata": {},
     "output_type": "execute_result"
    }
   ],
   "source": [
    "a_dict"
   ]
  },
  {
   "cell_type": "code",
   "execution_count": 19,
   "metadata": {},
   "outputs": [],
   "source": [
    "a_dict['c']='cupcake'"
   ]
  },
  {
   "cell_type": "code",
   "execution_count": 20,
   "metadata": {},
   "outputs": [
    {
     "data": {
      "text/plain": [
       "{'A': 123, 'B': 'blur', 'C': 45.0, 'c': 'cupcake'}"
      ]
     },
     "execution_count": 20,
     "metadata": {},
     "output_type": "execute_result"
    }
   ],
   "source": [
    "a_dict"
   ]
  },
  {
   "cell_type": "code",
   "execution_count": 31,
   "metadata": {},
   "outputs": [],
   "source": [
    "a_dict = { 'Manish' : [99,98,97,96,95], 'Manoj' : [90,91,92,93,94], 'Gaurav' : [85,86,87,88,89], 'Harpreet' : [99,98,97,96,95], 'Ujjwal' : [99,98,97,96,95]}"
   ]
  },
  {
   "cell_type": "code",
   "execution_count": 29,
   "metadata": {},
   "outputs": [
    {
     "data": {
      "text/plain": [
       "{'Manish': [99, 98, 97, 96, 95],\n",
       " 'Manoj': [90, 91, 92, 93, 94],\n",
       " 'Gaurav': [85, 86, 87, 88, 89],\n",
       " 'Harpreet': [99, 98, 97, 96, 95],\n",
       " 'Ujjwal': [99, 98, 97, 96, 95]}"
      ]
     },
     "execution_count": 29,
     "metadata": {},
     "output_type": "execute_result"
    }
   ],
   "source": [
    "a_dict"
   ]
  },
  {
   "cell_type": "code",
   "execution_count": 13,
   "metadata": {},
   "outputs": [],
   "source": [
    "report = {\n",
    "    'Indiana':{\n",
    "        'English' : 99,\n",
    "        'Hindi' : 98,\n",
    "        'Math' : 97,\n",
    "        'Science' : 96,\n",
    "        'Computer' : 95,\n",
    "    },\n",
    "    'Shyam':{\n",
    "        'English' : 94,\n",
    "        'Hindi' : 93,\n",
    "        'Math' : 92,\n",
    "        'Science' : 91,\n",
    "        'Computer' : 90,\n",
    "    },\n",
    "    'Ghanshyam':{\n",
    "        'English' : 89,\n",
    "        'Hindi' : 88,\n",
    "        'Math' : 87,\n",
    "        'Science' : 86,\n",
    "        'Computer' : 85,\n",
    "    },\n",
    "    'Adam':{\n",
    "        'English' : 84,\n",
    "        'Hindi' : 83,\n",
    "        'Math' : 82,\n",
    "        'Science' : 81,\n",
    "        'Computer' : 80,\n",
    "    },\n",
    "    'Eve':{\n",
    "        'English' : 79,\n",
    "        'Hindi' : 78,\n",
    "        'Math' : 77,\n",
    "        'Science' : 76,\n",
    "        'Computer' : 75,\n",
    "    },\n",
    "}"
   ]
  },
  {
   "cell_type": "code",
   "execution_count": 14,
   "metadata": {},
   "outputs": [
    {
     "data": {
      "text/plain": [
       "{'Indiana': {'English': 99,\n",
       "  'Hindi': 98,\n",
       "  'Math': 97,\n",
       "  'Science': 96,\n",
       "  'Computer': 95},\n",
       " 'Shyam': {'English': 94,\n",
       "  'Hindi': 93,\n",
       "  'Math': 92,\n",
       "  'Science': 91,\n",
       "  'Computer': 90},\n",
       " 'Ghanshyam': {'English': 89,\n",
       "  'Hindi': 88,\n",
       "  'Math': 87,\n",
       "  'Science': 86,\n",
       "  'Computer': 85},\n",
       " 'Adam': {'English': 84,\n",
       "  'Hindi': 83,\n",
       "  'Math': 82,\n",
       "  'Science': 81,\n",
       "  'Computer': 80},\n",
       " 'Eve': {'English': 79,\n",
       "  'Hindi': 78,\n",
       "  'Math': 77,\n",
       "  'Science': 76,\n",
       "  'Computer': 75}}"
      ]
     },
     "execution_count": 14,
     "metadata": {},
     "output_type": "execute_result"
    }
   ],
   "source": [
    "report"
   ]
  },
  {
   "cell_type": "code",
   "execution_count": 15,
   "metadata": {},
   "outputs": [
    {
     "data": {
      "text/plain": [
       "83"
      ]
     },
     "execution_count": 15,
     "metadata": {},
     "output_type": "execute_result"
    }
   ],
   "source": [
    "report['Adam']['Hindi']"
   ]
  },
  {
   "cell_type": "code",
   "execution_count": 13,
   "metadata": {},
   "outputs": [
    {
     "data": {
      "text/plain": [
       "[{'name': 'Ravi', 'age': 22},\n",
       " {'name': 'Kavi', 'age': 30},\n",
       " {'name': 'Janhvi', 'age': 50},\n",
       " {'name': 'Tanvi', 'age': 20}]"
      ]
     },
     "execution_count": 13,
     "metadata": {},
     "output_type": "execute_result"
    }
   ],
   "source": [
    "data = [\n",
    "    {'name':'Ravi','age':22},\n",
    "    {'name':'Kavi','age':30},\n",
    "    {'name':'Janhvi','age':50},\n",
    "    {'name':'Tanvi','age':20}\n",
    "]\n",
    "data"
   ]
  },
  {
   "cell_type": "code",
   "execution_count": 17,
   "metadata": {},
   "outputs": [
    {
     "data": {
      "text/plain": [
       "50"
      ]
     },
     "execution_count": 17,
     "metadata": {},
     "output_type": "execute_result"
    }
   ],
   "source": [
    "data[-2]['age']"
   ]
  },
  {
   "cell_type": "code",
   "execution_count": null,
   "metadata": {},
   "outputs": [],
   "source": []
  }
 ],
 "metadata": {
  "interpreter": {
   "hash": "d561c1bf2e6851bd79211bead0d24080a821613026c569880630f742ae255c4b"
  },
  "kernelspec": {
   "display_name": "Python 3.9.10 64-bit",
   "language": "python",
   "name": "python3"
  },
  "language_info": {
   "codemirror_mode": {
    "name": "ipython",
    "version": 3
   },
   "file_extension": ".py",
   "mimetype": "text/x-python",
   "name": "python",
   "nbconvert_exporter": "python",
   "pygments_lexer": "ipython3",
   "version": "3.9.10"
  },
  "orig_nbformat": 4
 },
 "nbformat": 4,
 "nbformat_minor": 2
}
