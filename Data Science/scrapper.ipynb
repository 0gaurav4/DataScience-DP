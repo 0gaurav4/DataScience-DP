{
 "cells": [
  {
   "cell_type": "code",
   "execution_count": 1,
   "metadata": {},
   "outputs": [],
   "source": [
    "import requests\n",
    "from bs4 import BeautifulSoup"
   ]
  },
  {
   "cell_type": "code",
   "execution_count": 39,
   "metadata": {},
   "outputs": [],
   "source": [
    "url = 'https://www.ndtv.com/top-stories'"
   ]
  },
  {
   "cell_type": "code",
   "execution_count": 40,
   "metadata": {},
   "outputs": [],
   "source": [
    "# getting data from internet\n",
    "\n",
    "response = requests.get(url)"
   ]
  },
  {
   "cell_type": "code",
   "execution_count": 41,
   "metadata": {},
   "outputs": [
    {
     "data": {
      "text/plain": [
       "200"
      ]
     },
     "execution_count": 41,
     "metadata": {},
     "output_type": "execute_result"
    }
   ],
   "source": [
    "response.status_code"
   ]
  },
  {
   "cell_type": "code",
   "execution_count": 42,
   "metadata": {},
   "outputs": [],
   "source": [
    "data = response.text"
   ]
  },
  {
   "cell_type": "code",
   "execution_count": 43,
   "metadata": {},
   "outputs": [],
   "source": [
    "# parsing the data\n",
    "\n",
    "soup = BeautifulSoup(data)"
   ]
  },
  {
   "cell_type": "code",
   "execution_count": 44,
   "metadata": {},
   "outputs": [],
   "source": [
    "cards = soup.find('div', {'class': 'lisingNews'})"
   ]
  },
  {
   "cell_type": "code",
   "execution_count": 45,
   "metadata": {},
   "outputs": [
    {
     "data": {
      "text/plain": [
       "bs4.element.Tag"
      ]
     },
     "execution_count": 45,
     "metadata": {},
     "output_type": "execute_result"
    }
   ],
   "source": [
    "type(cards)"
   ]
  },
  {
   "cell_type": "code",
   "execution_count": 46,
   "metadata": {},
   "outputs": [
    {
     "name": "stdout",
     "output_type": "stream",
     "text": [
      "Woman Run Over By Train, Her Son, 3, Dies After Falling Near Tracks\n",
      "Government Critic Moscow Councillor Found Guilty Over Ukraine Criticism\n",
      "Space Agency ISRO Successfully Conducts Joint Hypersonic Vehicle Trials\n",
      "Cyclone Mandous Less Intense Now: 16 Chennai Flights Cancelled Amid Bad Weather\n",
      "\"My Kalashnikov Is My Pen\": Ukraine Artist Wages War With Poster\n",
      "High Court Asks Delhi Police For Any \"SOP\" Followed In Road Accident Cases\n",
      "Foxconn Ends \"Closed Loop\" At iPhone Factory In China\n",
      "Probe Ordered After Class 12 Student Attends Kerala Medical College Class\n",
      "Body Of Boy, 3, Found In Public Toilet In Delhi: Cops\n",
      "No Data To Establish Correlation Of Death Due To Air Pollution: Centre\n",
      "Rajya Sabha Chaos Over Uniform Civil Code Bill, Move To Block It Rejected\n",
      "Ties With US Continue To Remain In Sad State: Russia After Prisoner Swap\n",
      "5 Inmates Injured After Rival Gang Members Clash In Gurugram Jail\n",
      "UK Media Hits Back At Prince Harry Over Netflix Documentary\n",
      "No Plan As Of Now To Bring All India Judicial Service: Government\n"
     ]
    }
   ],
   "source": [
    "for card in cards.find_all('div', {'class': 'news_Itm'}):\n",
    "    if 'adBg' not in card.attrs.get('class'):\n",
    "        print(card.find('h2').text)"
   ]
  },
  {
   "cell_type": "code",
   "execution_count": 47,
   "metadata": {},
   "outputs": [
    {
     "name": "stdout",
     "output_type": "stream",
     "text": [
      "A woman was run over by a train, while her three-year-old son died of head injuries after she threw him away from the track in an attempt to save him in Madhya Pradesh's Guna district on Friday, police said.\n",
      "A Russian court found opposition figure Ilya Yashin guilty on Friday of spreading \"false information\" about Russia's military intervention in Ukraine.\n",
      "Indian Space Research Organisation (ISRO) on Friday successfully conducted a joint hypersonic vehicle trial along with the Headquarters, Integrated Defence Staff (HQ IDS).\n",
      "Heavy rainfall is forecast besides cyclonic winds of around 85 km an hour as it passes over the Chennai coast around midnight. Government has issued a helpline number: 044-2538-4530.\n",
      "Every day Russia wages war on Ukraine, Mykola Kovalenko makes an anti-war poster.\n",
      "The Delhi High Court on Friday directed the city police commissioner to inform it about whether there is a standard operating procedure (SOP) that is followed by police in road accident cases.\n",
      "Taiwanese tech giant Foxconn has ended a months-long \"closed loop\" system at the world's biggest iPhone factory in central China, citing Beijing's nationwide loosening of zero-Covid regulations.\n",
      "Kerala police have said they have initiated an investigation into a complaint by Kozhikode Medical College that a 12th-standard student had recently attended MBBS class for four days without gaining admission.\n",
      "The body of a three-year-old boy was found in a public toilet of a slum cluster in Shahdara's Jhilmil Industrial Area, police said today.\n",
      "There is no conclusive data available to establish a direct correlation of death or disease exclusively due to air pollution, Minister of State for Health Bharati Pravin Pawar told the Lok Sabha on Friday.\n",
      "The Bill provides for the constitution of the National Inspection and Investigation Committee for preparation of the Uniform Civil Code and its implementation throughout India.\n",
      "Russia today said that its ties with the United States were still in \"crisis\" despite a prisoner swap involving US basketball star Brittney Griner and Russian arms dealer Viktor Bout.\n",
      "Five inmates were allegedly injured in a clash between members of the Lawrence Bishnoi-Kala Jathedi gang and supporters of gangster Kaushal in Bhondsi jail, police said today.\n",
      "Britain's media, the main focus of criticism so far in Netflix docuseries \"Harry and Meghan\", on Friday hit back at the estranged prince and his wife, accusing them of lying and insulting Queen Elizabeth II.\n",
      "\"In view of the existing divergence of opinion amongst stakeholders, there is no such proposal of All India Judicial Service at this juncture,\" Law Minister Kiren Rijiju said in a written reply.\n"
     ]
    }
   ],
   "source": [
    "for card in cards.find_all('div', {'class': 'news_Itm'}):\n",
    "    if 'adBg' not in card.attrs.get('class'):\n",
    "        print(card.find('p').text)"
   ]
  },
  {
   "cell_type": "code",
   "execution_count": 48,
   "metadata": {},
   "outputs": [
    {
     "name": "stdout",
     "output_type": "stream",
     "text": [
      "Press Trust of India   | Friday December 09, 2022, Guna                                                        \n",
      "                                                        \n",
      "Agence France-Presse   | Friday December 09, 2022, Moscow                                                        \n",
      "                                                        \n",
      "Asian News International   | Friday December 09, 2022, New Delhi                                                        \n",
      "                                                        \n",
      "NDTV News Desk   | Friday December 09, 2022, Chennai                                                        \n",
      "                                                        \n",
      "Agence France-Presse   | Friday December 09, 2022, Bratislava, Slovakia                                                        \n",
      "                                                        \n",
      "Press Trust of India   | Friday December 09, 2022, New Delhi                                                        \n",
      "                                                        \n",
      "Agence France-Presse   | Friday December 09, 2022, Beijing                                                        \n",
      "                                                        \n",
      "Press Trust of India   | Friday December 09, 2022, Kozhikode                                                        \n",
      "                                                        \n",
      "Press Trust of India   | Friday December 09, 2022, New Delhi                                                        \n",
      "                                                        \n",
      "Press Trust of India   | Friday December 09, 2022, New Delhi                                                        \n",
      "                                                        \n",
      "\n",
      "\t\t\t\t\t\t\t\t\t\t\t\t\t\t\tReported by Arvind Gunasekar, Edited by Akhil Kumar  | Friday December 09, 2022, New Delhi                                                        \n",
      "                                                        \n",
      "Agence France-Presse   | Friday December 09, 2022, Moscow                                                        \n",
      "                                                        \n",
      "Press Trust of India   | Friday December 09, 2022, Gurugram                                                        \n",
      "                                                        \n",
      "Agence France-Presse   | Friday December 09, 2022, London                                                        \n",
      "                                                        \n",
      "Press Trust of India   | Friday December 09, 2022, New Delhi                                                        \n",
      "                                                        \n"
     ]
    }
   ],
   "source": [
    "for card in cards.find_all('div', {'class': 'news_Itm'}):\n",
    "    if 'adBg' not in card.attrs.get('class'):\n",
    "        print(card.find('span').text)"
   ]
  },
  {
   "cell_type": "code",
   "execution_count": 49,
   "metadata": {},
   "outputs": [],
   "source": [
    "url2 = 'https://www.indiatoday.in/top-stories'"
   ]
  },
  {
   "cell_type": "code",
   "execution_count": 50,
   "metadata": {},
   "outputs": [],
   "source": [
    "response = requests.get(url2)"
   ]
  },
  {
   "cell_type": "code",
   "execution_count": 51,
   "metadata": {},
   "outputs": [
    {
     "data": {
      "text/plain": [
       "200"
      ]
     },
     "execution_count": 51,
     "metadata": {},
     "output_type": "execute_result"
    }
   ],
   "source": [
    "response.status_code"
   ]
  },
  {
   "cell_type": "code",
   "execution_count": 52,
   "metadata": {},
   "outputs": [],
   "source": [
    "data2 = response.text"
   ]
  },
  {
   "cell_type": "code",
   "execution_count": 53,
   "metadata": {},
   "outputs": [],
   "source": [
    "soup2 = BeautifulSoup(data2)"
   ]
  },
  {
   "cell_type": "code",
   "execution_count": 54,
   "metadata": {},
   "outputs": [],
   "source": [
    "cards2 = soup2.find('div', {'class': 'view-content'})"
   ]
  },
  {
   "cell_type": "code",
   "execution_count": 55,
   "metadata": {},
   "outputs": [
    {
     "data": {
      "text/plain": [
       "NoneType"
      ]
     },
     "execution_count": 55,
     "metadata": {},
     "output_type": "execute_result"
    }
   ],
   "source": [
    "type(cards2)"
   ]
  },
  {
   "cell_type": "code",
   "execution_count": 58,
   "metadata": {},
   "outputs": [
    {
     "ename": "AttributeError",
     "evalue": "'NoneType' object has no attribute 'find_all'",
     "output_type": "error",
     "traceback": [
      "\u001b[1;31m---------------------------------------------------------------------------\u001b[0m",
      "\u001b[1;31mAttributeError\u001b[0m                            Traceback (most recent call last)",
      "\u001b[1;32mc:\\Users\\gaura\\OneDrive\\Desktop\\0gaurav\\#finalYearProject\\Python DataScience DP\\Data Science\\scrapper.ipynb Cell 19\u001b[0m in \u001b[0;36m<module>\u001b[1;34m\u001b[0m\n\u001b[1;32m----> <a href='vscode-notebook-cell:/c%3A/Users/gaura/OneDrive/Desktop/0gaurav/%23finalYearProject/Python%20DataScience%20DP/Data%20Science/scrapper.ipynb#X24sZmlsZQ%3D%3D?line=0'>1</a>\u001b[0m \u001b[39mfor\u001b[39;00m card \u001b[39min\u001b[39;00m cards2\u001b[39m.\u001b[39;49mfind_all(\u001b[39m'\u001b[39m\u001b[39mdiv\u001b[39m\u001b[39m'\u001b[39m, {\u001b[39m'\u001b[39m\u001b[39mclass\u001b[39m\u001b[39m'\u001b[39m: \u001b[39m'\u001b[39m\u001b[39mcatagory-listing\u001b[39m\u001b[39m'\u001b[39m}):\n\u001b[0;32m      <a href='vscode-notebook-cell:/c%3A/Users/gaura/OneDrive/Desktop/0gaurav/%23finalYearProject/Python%20DataScience%20DP/Data%20Science/scrapper.ipynb#X24sZmlsZQ%3D%3D?line=1'>2</a>\u001b[0m     \u001b[39m# if 'adBg' not in card.attrs.get('class'):\u001b[39;00m\n\u001b[0;32m      <a href='vscode-notebook-cell:/c%3A/Users/gaura/OneDrive/Desktop/0gaurav/%23finalYearProject/Python%20DataScience%20DP/Data%20Science/scrapper.ipynb#X24sZmlsZQ%3D%3D?line=2'>3</a>\u001b[0m     \u001b[39mprint\u001b[39m(card\u001b[39m.\u001b[39mfind(\u001b[39m'\u001b[39m\u001b[39mh2\u001b[39m\u001b[39m'\u001b[39m)\u001b[39m.\u001b[39mtext)\n",
      "\u001b[1;31mAttributeError\u001b[0m: 'NoneType' object has no attribute 'find_all'"
     ]
    }
   ],
   "source": [
    "for card2 in cards2.find_all('div', {'class': 'catagory-listing'}):\n",
    "    # if 'adBg' not in card.attrs.get('class'):\n",
    "    print(card2.find('h2').text)"
   ]
  },
  {
   "cell_type": "code",
   "execution_count": null,
   "metadata": {},
   "outputs": [
    {
     "name": "stdout",
     "output_type": "stream",
     "text": [
      "On Wednesday, a speeding truck mowed down 6 people sitting under a tree on\n",
      "Khandwa Road of Tejaji Nagar police station area of Indore, killing three\n",
      "people of the same family. Meanwhile, three others suffered serious injuries\n",
      "in the accident.\n",
      "As per the forecast by the weather department, Delhi is likely to witness\n",
      "light rainfall with strong winds on Thursday.\n",
      "Kapil Sharma took to social media to share two pictures of himself posing\n",
      "with Tiger Shroff. The comedian asked his fans to caption his post.\n",
      "Gold weighing 630.45 gm approximately, was hidden in a man’s wig and\n",
      "rectum. A video of the customs officials recovering the gold from underneath\n",
      "his wig has gone viral on social media.\n",
      "Services on the Blue Line of Delhi Metro were affected on Thursday morning.\n",
      "The metro running between Dwarka Sector 21 to Noida Electronic City and\n",
      "Vaishali, Ghaziabad experienced a delay in services.\n",
      "Tiger Shroff has left Amitabh Bachchan impressed. The veteran actor was seen\n",
      "performing stunts like the Baaghi actor. See post here!\n",
      "Chelsea dropped crucial points against Arsenal as the race for top four\n",
      "intensifies in the Premier League. The team came back twice from deficit but\n",
      "failed to capitalise.\n",
      "The NSE Nifty 50 index was up 0.76 per cent or 129.60 points at 17,266.15,\n",
      "while the S&P BSE Sensex rose 0.84 per cent or 479.07 points to 57,516.57.\n",
      "Russia test-launched the Sarmat missile, a new nuclear-capable\n",
      "intercontinental ballistic weapon, on Wednesday. Here's all you need to know\n",
      "about it.\n",
      "The Opposition AIADMK in Tamil Nadu has written a letter to the President,\n",
      "the Prime Minister, the Home Minister and the Chief Justice of India\n",
      "regarding the law and order situation in the state and the recent black flag\n",
      "protest against TN Governor RN Ravi.\n",
      "Two senior doctors from the Kanpur Medical College (GSVM) were suspended for\n",
      "indulging in private practice.\n",
      "Director Sarov Shanmugam's Oh My Dog brings together three generations of\n",
      "actors - Vijayakumar, Arun Vijay and Arnav Vijay. The film is a treat for dog\n",
      "lovers, but the uneven screenplay is a letdown.\n"
     ]
    }
   ],
   "source": [
    "for card2 in cards2.find_all('div', {'class': 'catagory-listing'}):\n",
    "    # if 'adBg' not in card.attrs.get('class'):\n",
    "    print(card2.find('p').text)"
   ]
  },
  {
   "cell_type": "code",
   "execution_count": null,
   "metadata": {},
   "outputs": [
    {
     "name": "stdout",
     "output_type": "stream",
     "text": [
      "3 killed after speeding truck mows down 6 people sitting under a tree in Indore\n",
      "Delhi: Rainfall to bring slight respite from heat, temperature expected to dip \n",
      "Kapil Sharma wants you to caption his pic with Tiger Shroff. Any suggestions?\n",
      "Man hides gold worth Rs 30 lakh in his wig, nabbed at Delhi airport. Viral video\n",
      "Delhi Metro's Blue Line services disrupted between Dwarka and Noida/Ghaziabad, commuters irked\n",
      "Amitabh Bachchan copies Tiger Shroff's moves, says he hopes to get 'likes' now\n",
      "You cannot win games like this: Thomas Tuchel lambasts Chelsea players after 2-4 loss against Arsenal\n",
      "Sensex rises over 400 points | Top stocks in focus\n",
      "Russia test-fires ‘world’s most powerful' nuclear-capable missile | All you need to know\n",
      "AIADMK writes to Centre over black flag protest against Governor, law and order situation in Tamil Nadu\n",
      "Kanpur: Two senior doctors suspended for private practice \n",
      "Oh My Dog Movie Review: Arun Vijay's film is a treat for dog lovers\n"
     ]
    }
   ],
   "source": [
    "for card2 in cards2.find_all('div', {'class': 'catagory-listing'}):\n",
    "    # if 'adBg' not in card.attrs.get('class'):\n",
    "    print(card2.find('a').text)"
   ]
  },
  {
   "cell_type": "code",
   "execution_count": null,
   "metadata": {},
   "outputs": [],
   "source": [
    "url3 = 'https://www.flipkart.com/'"
   ]
  },
  {
   "cell_type": "code",
   "execution_count": null,
   "metadata": {},
   "outputs": [],
   "source": [
    "response = requests.get(url3)"
   ]
  },
  {
   "cell_type": "code",
   "execution_count": null,
   "metadata": {},
   "outputs": [
    {
     "data": {
      "text/plain": [
       "200"
      ]
     },
     "execution_count": 27,
     "metadata": {},
     "output_type": "execute_result"
    }
   ],
   "source": [
    "response.status_code"
   ]
  },
  {
   "cell_type": "code",
   "execution_count": null,
   "metadata": {},
   "outputs": [],
   "source": [
    "data3 = response.text"
   ]
  },
  {
   "cell_type": "code",
   "execution_count": null,
   "metadata": {},
   "outputs": [],
   "source": [
    "soup3 = BeautifulSoup(data3)"
   ]
  },
  {
   "cell_type": "code",
   "execution_count": null,
   "metadata": {},
   "outputs": [
    {
     "ename": "NameError",
     "evalue": "name 'soup3' is not defined",
     "output_type": "error",
     "traceback": [
      "\u001b[1;31m---------------------------------------------------------------------------\u001b[0m",
      "\u001b[1;31mNameError\u001b[0m                                 Traceback (most recent call last)",
      "\u001b[1;32mc:\\Users\\gaura\\OneDrive\\Desktop\\0gaurav\\#finalYearProject\\Python DataScience DP\\Data Science\\scrapper.ipynb Cell 27\u001b[0m in \u001b[0;36m<module>\u001b[1;34m\u001b[0m\n\u001b[1;32m----> <a href='vscode-notebook-cell:/c%3A/Users/gaura/OneDrive/Desktop/0gaurav/%23finalYearProject/Python%20DataScience%20DP/Data%20Science/scrapper.ipynb#X35sZmlsZQ%3D%3D?line=0'>1</a>\u001b[0m cards3 \u001b[39m=\u001b[39m soup3\u001b[39m.\u001b[39mfind(\u001b[39m'\u001b[39m\u001b[39mdiv\u001b[39m\u001b[39m'\u001b[39m, {\u001b[39m'\u001b[39m\u001b[39mclass\u001b[39m\u001b[39m'\u001b[39m: \u001b[39m'\u001b[39m\u001b[39m_1oHPGm\u001b[39m\u001b[39m'\u001b[39m})\n",
      "\u001b[1;31mNameError\u001b[0m: name 'soup3' is not defined"
     ]
    }
   ],
   "source": [
    "cards3 = soup3.find('div', {'class': '_1oHPGm'})"
   ]
  },
  {
   "cell_type": "code",
   "execution_count": null,
   "metadata": {},
   "outputs": [
    {
     "ename": "NameError",
     "evalue": "name 'cards3' is not defined",
     "output_type": "error",
     "traceback": [
      "\u001b[1;31m---------------------------------------------------------------------------\u001b[0m",
      "\u001b[1;31mNameError\u001b[0m                                 Traceback (most recent call last)",
      "\u001b[1;32mc:\\Users\\gaura\\OneDrive\\Desktop\\0gaurav\\#finalYearProject\\Python DataScience DP\\Data Science\\scrapper.ipynb Cell 28\u001b[0m in \u001b[0;36m<module>\u001b[1;34m\u001b[0m\n\u001b[1;32m----> <a href='vscode-notebook-cell:/c%3A/Users/gaura/OneDrive/Desktop/0gaurav/%23finalYearProject/Python%20DataScience%20DP/Data%20Science/scrapper.ipynb#X36sZmlsZQ%3D%3D?line=0'>1</a>\u001b[0m \u001b[39mfor\u001b[39;00m card3 \u001b[39min\u001b[39;00m cards3\u001b[39m.\u001b[39mfind_all(\u001b[39m'\u001b[39m\u001b[39mdiv\u001b[39m\u001b[39m'\u001b[39m, {\u001b[39m'\u001b[39m\u001b[39mclass\u001b[39m\u001b[39m'\u001b[39m: \u001b[39m'\u001b[39m\u001b[39m_3ZYowz _2CfYpZ\u001b[39m\u001b[39m'\u001b[39m}):\n\u001b[0;32m      <a href='vscode-notebook-cell:/c%3A/Users/gaura/OneDrive/Desktop/0gaurav/%23finalYearProject/Python%20DataScience%20DP/Data%20Science/scrapper.ipynb#X36sZmlsZQ%3D%3D?line=1'>2</a>\u001b[0m     \u001b[39m# if 'adBg' not in card.attrs.get('class'):\u001b[39;00m\n\u001b[0;32m      <a href='vscode-notebook-cell:/c%3A/Users/gaura/OneDrive/Desktop/0gaurav/%23finalYearProject/Python%20DataScience%20DP/Data%20Science/scrapper.ipynb#X36sZmlsZQ%3D%3D?line=2'>3</a>\u001b[0m     \u001b[39mprint\u001b[39m(card3\u001b[39m.\u001b[39mfind(\u001b[39m'\u001b[39m\u001b[39mdiv\u001b[39m\u001b[39m'\u001b[39m, {\u001b[39m'\u001b[39m\u001b[39mclass\u001b[39m\u001b[39m'\u001b[39m: \u001b[39m'\u001b[39m\u001b[39m_3LU4EM\u001b[39m\u001b[39m'\u001b[39m})\u001b[39m.\u001b[39mtext)\n",
      "\u001b[1;31mNameError\u001b[0m: name 'cards3' is not defined"
     ]
    }
   ],
   "source": [
    "for card3 in cards3.find_all('div', {'class': '_3ZYowz _2CfYpZ'}):\n",
    "    # if 'adBg' not in card.attrs.get('class'):\n",
    "    print(card3.find('div', {'class': '_3LU4EM'}).text)"
   ]
  },
  {
   "cell_type": "code",
   "execution_count": null,
   "metadata": {},
   "outputs": [
    {
     "name": "stdout",
     "output_type": "stream",
     "text": [
      "Input = 1,5,4,3,3,2,2,1 \n",
      " Output = ['1', '2', '3', '4', '5']\n"
     ]
    }
   ],
   "source": [
    "# int[] nums = [...]; // Input array\n",
    "# int[] expectedNums = [...]; // The expected answer with correct length\n",
    "\n",
    "# int k = removeDuplicates(nums); // Calls your implementation\n",
    "\n",
    "# assert k == expectedNums.length;\n",
    "# for (int i = 0; i < k; i++) {\n",
    "#     assert nums[i] == expectedNums[i];\n",
    "\n",
    "\n",
    "# Input: nums = [1,1,2]\n",
    "# Output: 2, nums = [1,2,_]\n",
    "# Explanation: Your function should return k = 2, with the first two elements of nums being 1 and 2 respectively.\n",
    "# It does not matter what you leave beyond the returned k (hence they are underscores).\n",
    "# }\n",
    "\n",
    "# netsh wlan show profile wlan key=clear\n",
    "\n",
    "\n",
    "my_list = input()\n",
    "print(f\"Input = {my_list} \\n Output =\",(sorted(set(my_list.split(',')))))"
   ]
  },
  {
   "cell_type": "code",
   "execution_count": null,
   "metadata": {},
   "outputs": [],
   "source": [
    "# my_list = input()\n",
    "# my_set = (set(my_list.split(',')))\n",
    "# s = list(my_set)\n",
    "# print(s)"
   ]
  },
  {
   "cell_type": "code",
   "execution_count": null,
   "metadata": {},
   "outputs": [
    {
     "name": "stdout",
     "output_type": "stream",
     "text": [
      "{1, 2, 3}\n"
     ]
    }
   ],
   "source": [
    "list = [1,2,3,2]\n",
    "\n",
    "print(set(list))"
   ]
  },
  {
   "cell_type": "code",
   "execution_count": null,
   "metadata": {},
   "outputs": [
    {
     "name": "stdout",
     "output_type": "stream",
     "text": [
      "Command not recognized!\n",
      "Command not recognized!\n",
      "Command not recognized!\n",
      "Command not recognized!\n"
     ]
    }
   ],
   "source": [
    "def execute(lst, cmd, *args):\n",
    "    if cmd == 'insert':\n",
    "        lst.insert(int(args[0]), int(args[1]))\n",
    "    elif cmd == 'print':\n",
    "        print(lst)\n",
    "    elif cmd == 'remove':\n",
    "        lst.remove(int(args[0]))\n",
    "    elif cmd == 'append':\n",
    "        lst.append(int(args[0]))\n",
    "    elif cmd == 'sort':\n",
    "        lst.sort()\n",
    "    elif cmd == 'reverse':\n",
    "        lst.reverse()\n",
    "    elif cmd == 'pop':\n",
    "        lst.pop()\n",
    "    else: \n",
    "        print(\"Command not recognized!\")\n",
    "\n",
    "lst = []\n",
    "for _ in range(int(input())):\n",
    "    execute(lst, *input().split())"
   ]
  },
  {
   "cell_type": "code",
   "execution_count": 2,
   "metadata": {},
   "outputs": [],
   "source": [
    "url4= 'https://www.yourquote.in/ohh-my-dude-4f1f/quotes'"
   ]
  },
  {
   "cell_type": "code",
   "execution_count": 3,
   "metadata": {},
   "outputs": [],
   "source": [
    "response = requests.get(url4)"
   ]
  },
  {
   "cell_type": "code",
   "execution_count": 4,
   "metadata": {},
   "outputs": [
    {
     "data": {
      "text/plain": [
       "200"
      ]
     },
     "execution_count": 4,
     "metadata": {},
     "output_type": "execute_result"
    }
   ],
   "source": [
    "response.status_code"
   ]
  },
  {
   "cell_type": "code",
   "execution_count": 5,
   "metadata": {},
   "outputs": [],
   "source": [
    "data4 = response.text"
   ]
  },
  {
   "cell_type": "code",
   "execution_count": 6,
   "metadata": {},
   "outputs": [],
   "source": [
    "soup4 = BeautifulSoup(data4)"
   ]
  },
  {
   "cell_type": "code",
   "execution_count": 7,
   "metadata": {},
   "outputs": [],
   "source": [
    "cards4 = soup4.find('div', {'class': 'collapsed'})"
   ]
  },
  {
   "cell_type": "code",
   "execution_count": 9,
   "metadata": {},
   "outputs": [
    {
     "ename": "AttributeError",
     "evalue": "'NoneType' object has no attribute 'find_all'",
     "output_type": "error",
     "traceback": [
      "\u001b[1;31m---------------------------------------------------------------------------\u001b[0m",
      "\u001b[1;31mAttributeError\u001b[0m                            Traceback (most recent call last)",
      "\u001b[1;32mc:\\Users\\gaura\\OneDrive\\Desktop\\0gaurav\\#finalYearProject\\Python DataScience DP\\Data Science\\scrapper.ipynb Cell 39\u001b[0m in \u001b[0;36m<module>\u001b[1;34m\u001b[0m\n\u001b[1;32m----> <a href='vscode-notebook-cell:/c%3A/Users/gaura/OneDrive/Desktop/0gaurav/%23finalYearProject/Python%20DataScience%20DP/Data%20Science/scrapper.ipynb#X53sZmlsZQ%3D%3D?line=0'>1</a>\u001b[0m \u001b[39mfor\u001b[39;00m card4 \u001b[39min\u001b[39;00m cards4\u001b[39m.\u001b[39;49mfind_all(\u001b[39m'\u001b[39m\u001b[39mdiv\u001b[39m\u001b[39m'\u001b[39m, {\u001b[39m'\u001b[39m\u001b[39mclass\u001b[39m\u001b[39m'\u001b[39m: \u001b[39m'\u001b[39m\u001b[39mcollapsed\u001b[39m\u001b[39m'\u001b[39m}):\n\u001b[0;32m      <a href='vscode-notebook-cell:/c%3A/Users/gaura/OneDrive/Desktop/0gaurav/%23finalYearProject/Python%20DataScience%20DP/Data%20Science/scrapper.ipynb#X53sZmlsZQ%3D%3D?line=1'>2</a>\u001b[0m     \u001b[39mprint\u001b[39m(card4\u001b[39m.\u001b[39mfind(\u001b[39m'\u001b[39m\u001b[39mp\u001b[39m\u001b[39m'\u001b[39m)\u001b[39m.\u001b[39mtext)\n",
      "\u001b[1;31mAttributeError\u001b[0m: 'NoneType' object has no attribute 'find_all'"
     ]
    }
   ],
   "source": [
    "for card4 in cards4.find_all('div', {'class': 'collapsed'}):\n",
    "    print(card4.find('p').text)"
   ]
  },
  {
   "cell_type": "code",
   "execution_count": 10,
   "metadata": {},
   "outputs": [
    {
     "ename": "AttributeError",
     "evalue": "'NoneType' object has no attribute 'find_all'",
     "output_type": "error",
     "traceback": [
      "\u001b[1;31m---------------------------------------------------------------------------\u001b[0m",
      "\u001b[1;31mAttributeError\u001b[0m                            Traceback (most recent call last)",
      "\u001b[1;32mc:\\Users\\gaura\\OneDrive\\Desktop\\0gaurav\\#finalYearProject\\Python DataScience DP\\Data Science\\scrapper.ipynb Cell 40\u001b[0m in \u001b[0;36m<module>\u001b[1;34m\u001b[0m\n\u001b[1;32m----> <a href='vscode-notebook-cell:/c%3A/Users/gaura/OneDrive/Desktop/0gaurav/%23finalYearProject/Python%20DataScience%20DP/Data%20Science/scrapper.ipynb#X54sZmlsZQ%3D%3D?line=0'>1</a>\u001b[0m \u001b[39mfor\u001b[39;00m card4 \u001b[39min\u001b[39;00m cards4\u001b[39m.\u001b[39;49mfind_all(\u001b[39m'\u001b[39m\u001b[39mdiv\u001b[39m\u001b[39m'\u001b[39m, {\u001b[39m'\u001b[39m\u001b[39mclass\u001b[39m\u001b[39m'\u001b[39m: \u001b[39m'\u001b[39m\u001b[39mblockq\u001b[39m\u001b[39m'\u001b[39m}):\n\u001b[0;32m      <a href='vscode-notebook-cell:/c%3A/Users/gaura/OneDrive/Desktop/0gaurav/%23finalYearProject/Python%20DataScience%20DP/Data%20Science/scrapper.ipynb#X54sZmlsZQ%3D%3D?line=1'>2</a>\u001b[0m     \u001b[39mprint\u001b[39m(card4\u001b[39m.\u001b[39mfind(\u001b[39m'\u001b[39m\u001b[39mp\u001b[39m\u001b[39m'\u001b[39m, {\u001b[39m'\u001b[39m\u001b[39mclass\u001b[39m\u001b[39m'\u001b[39m: \u001b[39m'\u001b[39m\u001b[39mblockq\u001b[39m\u001b[39m'\u001b[39m})\u001b[39m.\u001b[39mtext)\n",
      "\u001b[1;31mAttributeError\u001b[0m: 'NoneType' object has no attribute 'find_all'"
     ]
    }
   ],
   "source": [
    "for card4 in cards4.find_all('div', {'class': 'blockq'}):\n",
    "    print(card4.find('p', {'class': 'blockq'}).text)"
   ]
  },
  {
   "cell_type": "code",
   "execution_count": 107,
   "metadata": {},
   "outputs": [
    {
     "ename": "AttributeError",
     "evalue": "module 'urllib' has no attribute 'urlopen'",
     "output_type": "error",
     "traceback": [
      "\u001b[1;31m---------------------------------------------------------------------------\u001b[0m",
      "\u001b[1;31mAttributeError\u001b[0m                            Traceback (most recent call last)",
      "\u001b[1;32mc:\\Users\\gaura\\OneDrive\\Desktop\\0gaurav\\#finalYearProject\\Python DataScience DP\\Data Science\\scrapper.ipynb Cell 41\u001b[0m in \u001b[0;36m<module>\u001b[1;34m\u001b[0m\n\u001b[0;32m      <a href='vscode-notebook-cell:/c%3A/Users/gaura/OneDrive/Desktop/0gaurav/%23finalYearProject/Python%20DataScience%20DP/Data%20Science/scrapper.ipynb#Y100sZmlsZQ%3D%3D?line=2'>3</a>\u001b[0m \u001b[39mfrom\u001b[39;00m \u001b[39mbs4\u001b[39;00m \u001b[39mimport\u001b[39;00m BeautifulSoup\n\u001b[0;32m      <a href='vscode-notebook-cell:/c%3A/Users/gaura/OneDrive/Desktop/0gaurav/%23finalYearProject/Python%20DataScience%20DP/Data%20Science/scrapper.ipynb#Y100sZmlsZQ%3D%3D?line=3'>4</a>\u001b[0m \u001b[39m# or if you're using BeautifulSoup4:\u001b[39;00m\n\u001b[0;32m      <a href='vscode-notebook-cell:/c%3A/Users/gaura/OneDrive/Desktop/0gaurav/%23finalYearProject/Python%20DataScience%20DP/Data%20Science/scrapper.ipynb#Y100sZmlsZQ%3D%3D?line=4'>5</a>\u001b[0m \u001b[39m# from bs4 import BeautifulSoup\u001b[39;00m\n\u001b[1;32m----> <a href='vscode-notebook-cell:/c%3A/Users/gaura/OneDrive/Desktop/0gaurav/%23finalYearProject/Python%20DataScience%20DP/Data%20Science/scrapper.ipynb#Y100sZmlsZQ%3D%3D?line=6'>7</a>\u001b[0m soup \u001b[39m=\u001b[39m BeautifulSoup(urllib\u001b[39m.\u001b[39;49murlopen(\u001b[39m'\u001b[39m\u001b[39mhttps://www.yourquote.in/ohh-my-dude-4f1f/quotes\u001b[39m\u001b[39m'\u001b[39m)\u001b[39m.\u001b[39mread())\n\u001b[0;32m      <a href='vscode-notebook-cell:/c%3A/Users/gaura/OneDrive/Desktop/0gaurav/%23finalYearProject/Python%20DataScience%20DP/Data%20Science/scrapper.ipynb#Y100sZmlsZQ%3D%3D?line=8'>9</a>\u001b[0m \u001b[39mfor\u001b[39;00m row \u001b[39min\u001b[39;00m soup(\u001b[39m'\u001b[39m\u001b[39mtable\u001b[39m\u001b[39m'\u001b[39m, {\u001b[39m'\u001b[39m\u001b[39mclass\u001b[39m\u001b[39m'\u001b[39m: \u001b[39m'\u001b[39m\u001b[39mspad\u001b[39m\u001b[39m'\u001b[39m})[\u001b[39m0\u001b[39m]\u001b[39m.\u001b[39mtbody(\u001b[39m'\u001b[39m\u001b[39mtr\u001b[39m\u001b[39m'\u001b[39m):\n\u001b[0;32m     <a href='vscode-notebook-cell:/c%3A/Users/gaura/OneDrive/Desktop/0gaurav/%23finalYearProject/Python%20DataScience%20DP/Data%20Science/scrapper.ipynb#Y100sZmlsZQ%3D%3D?line=9'>10</a>\u001b[0m     tds \u001b[39m=\u001b[39m row(\u001b[39m'\u001b[39m\u001b[39mtd\u001b[39m\u001b[39m'\u001b[39m)\n",
      "\u001b[1;31mAttributeError\u001b[0m: module 'urllib' has no attribute 'urlopen'"
     ]
    }
   ],
   "source": [
    "#how to scrape website?\n",
    "import urllib\n",
    "from bs4 import BeautifulSoup\n",
    "# or if you're using BeautifulSoup4:\n",
    "# from bs4 import BeautifulSoup\n",
    "\n",
    "soup = BeautifulSoup(urllib.urlopen('https://www.yourquote.in/ohh-my-dude-4f1f/quotes').read())\n",
    "\n",
    "for row in soup('table', {'class': 'spad'})[0].tbody('tr'):\n",
    "    tds = row('td')\n",
    "    print(tds[0].string, tds[1].string)\n",
    "    # will print date and sunrise\n",
    "\n",
    "\n"
   ]
  },
  {
   "cell_type": "code",
   "execution_count": null,
   "metadata": {},
   "outputs": [],
   "source": []
  }
 ],
 "metadata": {
  "kernelspec": {
   "display_name": "Python 3.9.10 64-bit",
   "language": "python",
   "name": "python3"
  },
  "language_info": {
   "codemirror_mode": {
    "name": "ipython",
    "version": 3
   },
   "file_extension": ".py",
   "mimetype": "text/x-python",
   "name": "python",
   "nbconvert_exporter": "python",
   "pygments_lexer": "ipython3",
   "version": "3.9.10"
  },
  "orig_nbformat": 4,
  "vscode": {
   "interpreter": {
    "hash": "dad35ac5c78b496eda946afbd550ec296dcc8552236347d45adb0399e9bdd932"
   }
  }
 },
 "nbformat": 4,
 "nbformat_minor": 2
}
